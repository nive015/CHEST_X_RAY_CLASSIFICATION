{
 "cells": [
  {
   "cell_type": "code",
   "execution_count": 73,
   "id": "cd5d60a7-919d-4cd0-b5b6-944f957da276",
   "metadata": {},
   "outputs": [
    {
     "name": "stdout",
     "output_type": "stream",
     "text": [
      "Requirement already satisfied: tensorflow in c:\\users\\intmay25\\appdata\\local\\anaconda3\\lib\\site-packages (2.19.0)\n",
      "Requirement already satisfied: absl-py>=1.0.0 in c:\\users\\intmay25\\appdata\\local\\anaconda3\\lib\\site-packages (from tensorflow) (2.2.2)\n",
      "Requirement already satisfied: astunparse>=1.6.0 in c:\\users\\intmay25\\appdata\\local\\anaconda3\\lib\\site-packages (from tensorflow) (1.6.3)\n",
      "Requirement already satisfied: flatbuffers>=24.3.25 in c:\\users\\intmay25\\appdata\\local\\anaconda3\\lib\\site-packages (from tensorflow) (25.2.10)\n",
      "Requirement already satisfied: gast!=0.5.0,!=0.5.1,!=0.5.2,>=0.2.1 in c:\\users\\intmay25\\appdata\\local\\anaconda3\\lib\\site-packages (from tensorflow) (0.6.0)\n",
      "Requirement already satisfied: google-pasta>=0.1.1 in c:\\users\\intmay25\\appdata\\local\\anaconda3\\lib\\site-packages (from tensorflow) (0.2.0)\n",
      "Requirement already satisfied: libclang>=13.0.0 in c:\\users\\intmay25\\appdata\\local\\anaconda3\\lib\\site-packages (from tensorflow) (18.1.1)\n",
      "Requirement already satisfied: opt-einsum>=2.3.2 in c:\\users\\intmay25\\appdata\\local\\anaconda3\\lib\\site-packages (from tensorflow) (3.4.0)\n",
      "Requirement already satisfied: packaging in c:\\users\\intmay25\\appdata\\local\\anaconda3\\lib\\site-packages (from tensorflow) (24.1)\n",
      "Requirement already satisfied: protobuf!=4.21.0,!=4.21.1,!=4.21.2,!=4.21.3,!=4.21.4,!=4.21.5,<6.0.0dev,>=3.20.3 in c:\\users\\intmay25\\appdata\\local\\anaconda3\\lib\\site-packages (from tensorflow) (4.25.3)\n",
      "Requirement already satisfied: requests<3,>=2.21.0 in c:\\users\\intmay25\\appdata\\local\\anaconda3\\lib\\site-packages (from tensorflow) (2.32.3)\n",
      "Requirement already satisfied: setuptools in c:\\users\\intmay25\\appdata\\local\\anaconda3\\lib\\site-packages (from tensorflow) (75.1.0)\n",
      "Requirement already satisfied: six>=1.12.0 in c:\\users\\intmay25\\appdata\\local\\anaconda3\\lib\\site-packages (from tensorflow) (1.16.0)\n",
      "Requirement already satisfied: termcolor>=1.1.0 in c:\\users\\intmay25\\appdata\\local\\anaconda3\\lib\\site-packages (from tensorflow) (3.1.0)\n",
      "Requirement already satisfied: typing-extensions>=3.6.6 in c:\\users\\intmay25\\appdata\\local\\anaconda3\\lib\\site-packages (from tensorflow) (4.13.2)\n",
      "Requirement already satisfied: wrapt>=1.11.0 in c:\\users\\intmay25\\appdata\\local\\anaconda3\\lib\\site-packages (from tensorflow) (1.14.1)\n",
      "Requirement already satisfied: grpcio<2.0,>=1.24.3 in c:\\users\\intmay25\\appdata\\local\\anaconda3\\lib\\site-packages (from tensorflow) (1.71.0)\n",
      "Requirement already satisfied: tensorboard~=2.19.0 in c:\\users\\intmay25\\appdata\\local\\anaconda3\\lib\\site-packages (from tensorflow) (2.19.0)\n",
      "Requirement already satisfied: keras>=3.5.0 in c:\\users\\intmay25\\appdata\\local\\anaconda3\\lib\\site-packages (from tensorflow) (3.10.0)\n",
      "Requirement already satisfied: numpy<2.2.0,>=1.26.0 in c:\\users\\intmay25\\appdata\\local\\anaconda3\\lib\\site-packages (from tensorflow) (1.26.4)\n",
      "Requirement already satisfied: h5py>=3.11.0 in c:\\users\\intmay25\\appdata\\local\\anaconda3\\lib\\site-packages (from tensorflow) (3.11.0)\n",
      "Requirement already satisfied: ml-dtypes<1.0.0,>=0.5.1 in c:\\users\\intmay25\\appdata\\local\\anaconda3\\lib\\site-packages (from tensorflow) (0.5.1)\n",
      "Requirement already satisfied: wheel<1.0,>=0.23.0 in c:\\users\\intmay25\\appdata\\local\\anaconda3\\lib\\site-packages (from astunparse>=1.6.0->tensorflow) (0.44.0)\n",
      "Requirement already satisfied: rich in c:\\users\\intmay25\\appdata\\local\\anaconda3\\lib\\site-packages (from keras>=3.5.0->tensorflow) (13.7.1)\n",
      "Requirement already satisfied: namex in c:\\users\\intmay25\\appdata\\local\\anaconda3\\lib\\site-packages (from keras>=3.5.0->tensorflow) (0.1.0)\n",
      "Requirement already satisfied: optree in c:\\users\\intmay25\\appdata\\local\\anaconda3\\lib\\site-packages (from keras>=3.5.0->tensorflow) (0.15.0)\n",
      "Requirement already satisfied: charset-normalizer<4,>=2 in c:\\users\\intmay25\\appdata\\local\\anaconda3\\lib\\site-packages (from requests<3,>=2.21.0->tensorflow) (3.3.2)\n",
      "Requirement already satisfied: idna<4,>=2.5 in c:\\users\\intmay25\\appdata\\local\\anaconda3\\lib\\site-packages (from requests<3,>=2.21.0->tensorflow) (3.7)\n",
      "Requirement already satisfied: urllib3<3,>=1.21.1 in c:\\users\\intmay25\\appdata\\local\\anaconda3\\lib\\site-packages (from requests<3,>=2.21.0->tensorflow) (2.2.3)\n",
      "Requirement already satisfied: certifi>=2017.4.17 in c:\\users\\intmay25\\appdata\\local\\anaconda3\\lib\\site-packages (from requests<3,>=2.21.0->tensorflow) (2024.8.30)\n",
      "Requirement already satisfied: markdown>=2.6.8 in c:\\users\\intmay25\\appdata\\local\\anaconda3\\lib\\site-packages (from tensorboard~=2.19.0->tensorflow) (3.4.1)\n",
      "Requirement already satisfied: tensorboard-data-server<0.8.0,>=0.7.0 in c:\\users\\intmay25\\appdata\\local\\anaconda3\\lib\\site-packages (from tensorboard~=2.19.0->tensorflow) (0.7.2)\n",
      "Requirement already satisfied: werkzeug>=1.0.1 in c:\\users\\intmay25\\appdata\\local\\anaconda3\\lib\\site-packages (from tensorboard~=2.19.0->tensorflow) (3.0.3)\n",
      "Requirement already satisfied: MarkupSafe>=2.1.1 in c:\\users\\intmay25\\appdata\\local\\anaconda3\\lib\\site-packages (from werkzeug>=1.0.1->tensorboard~=2.19.0->tensorflow) (2.1.3)\n",
      "Requirement already satisfied: markdown-it-py>=2.2.0 in c:\\users\\intmay25\\appdata\\local\\anaconda3\\lib\\site-packages (from rich->keras>=3.5.0->tensorflow) (2.2.0)\n",
      "Requirement already satisfied: pygments<3.0.0,>=2.13.0 in c:\\users\\intmay25\\appdata\\local\\anaconda3\\lib\\site-packages (from rich->keras>=3.5.0->tensorflow) (2.15.1)\n",
      "Requirement already satisfied: mdurl~=0.1 in c:\\users\\intmay25\\appdata\\local\\anaconda3\\lib\\site-packages (from markdown-it-py>=2.2.0->rich->keras>=3.5.0->tensorflow) (0.1.0)\n"
     ]
    }
   ],
   "source": [
    "!pip install tensorflow\n",
    "\n"
   ]
  },
  {
   "cell_type": "code",
   "execution_count": 74,
   "id": "84e8326a-c172-42de-a687-0f08b52acdd5",
   "metadata": {},
   "outputs": [],
   "source": [
    "import os\n",
    "import shutil\n",
    "import cv2\n",
    "import pydicom\n",
    "import numpy as np\n",
    "import pandas as pd\n",
    "from tqdm import tqdm\n",
    "from collections import defaultdict\n",
    "from tensorflow.keras.preprocessing.image import ImageDataGenerator, img_to_array, load_img\n",
    "from PIL import Image\n",
    "import tensorflow as tf\n",
    "from tensorflow.keras.preprocessing.image import ImageDataGenerator\n",
    "from tensorflow.keras.applications import DenseNet121\n",
    "from tensorflow.keras.layers import Dense, GlobalAveragePooling2D, Dropout\n",
    "from tensorflow.keras.models import Model\n",
    "from tensorflow.keras.optimizers import Adam\n",
    "import tkinter as tk\n",
    "from tkinter import filedialog\n",
    "from tensorflow.keras.models import load_model\n",
    "from tensorflow.keras.preprocessing import image\n",
    "import matplotlib.pyplot as plt\n",
    "from sklearn.metrics import classification_report, confusion_matrix"
   ]
  },
  {
   "cell_type": "code",
   "execution_count": 75,
   "id": "b2615eb1-70fc-434f-8760-7a307d8ffb93",
   "metadata": {},
   "outputs": [
    {
     "name": "stderr",
     "output_type": "stream",
     "text": [
      "Processing chest: 100%|██████████████████████████████████████████████████████████████| 356/356 [00:08<00:00, 44.13it/s]\n",
      "Processing others: 100%|█████████████████████████████████████████████████████████████| 393/393 [00:11<00:00, 34.79it/s]"
     ]
    },
    {
     "name": "stdout",
     "output_type": "stream",
     "text": [
      "\n",
      "All images preprocessed and saved.\n"
     ]
    },
    {
     "name": "stderr",
     "output_type": "stream",
     "text": [
      "\n"
     ]
    }
   ],
   "source": [
    "input_chest_folder = \"F:/images/chest\"\n",
    "input_nonchest_folder = \"F:/images/others\"\n",
    "output_chest_folder = \"F:/images/preprocessed_data/chest\"\n",
    "output_nonchest_folder = \"F:/images/preprocessed_data/non_chest\"\n",
    "image_size = 224  # Resize to 224x224 \n",
    "convert_to_rgb = True #for DenseNet\n",
    "\n",
    "#Delete/Create Output Folders\n",
    "for folder in [output_chest_folder, output_nonchest_folder]:\n",
    "    if os.path.exists(folder):\n",
    "        shutil.rmtree(folder)\n",
    "    os.makedirs(folder, exist_ok=True)\n",
    "\n",
    "def preprocess_image(img_path):\n",
    "    try:\n",
    "        img = cv2.imread(img_path, cv2.IMREAD_GRAYSCALE)\n",
    "        if img is None:\n",
    "            raise Exception(\"Could not read image\")\n",
    "\n",
    "        # Normalize to [0, 255]\n",
    "        img = (img - np.min(img)) / (np.max(img) - np.min(img)) * 255.0\n",
    "        img = img.astype(np.uint8)\n",
    "\n",
    "        # Resize\n",
    "        img_resized = cv2.resize(img, (image_size, image_size))\n",
    "\n",
    "        # Convert to RGB \n",
    "        if convert_to_rgb:\n",
    "            img_resized = cv2.cvtColor(img_resized, cv2.COLOR_GRAY2RGB)\n",
    "\n",
    "        return img_resized\n",
    "\n",
    "    except Exception as e:\n",
    "        print(f\"Error processing {img_path}: {e}\")\n",
    "        return None\n",
    "\n",
    "def process_folder(input_folder, output_folder, prefix):\n",
    "    files = [f for f in os.listdir(input_folder) if f.lower().endswith((\".png\", \".jpg\", \".jpeg\"))]\n",
    "    files.sort()  #sort for consistent naming\n",
    "    for idx, file in enumerate(tqdm(files, desc=f\"Processing {prefix}\")):\n",
    "        input_path = os.path.join(input_folder, file)\n",
    "        processed_img = preprocess_image(input_path)\n",
    "        if processed_img is not None:\n",
    "            new_filename = f\"{prefix}_{idx + 1:04d}.png\"\n",
    "            output_path = os.path.join(output_folder, new_filename)\n",
    "            cv2.imwrite(output_path, processed_img)\n",
    "\n",
    "#Process Both Folders\n",
    "process_folder(input_chest_folder, output_chest_folder, \"chest\")\n",
    "process_folder(input_nonchest_folder, output_nonchest_folder, \"others\")\n",
    "\n",
    "print(\"\\nAll images preprocessed and saved.\")\n"
   ]
  },
  {
   "cell_type": "code",
   "execution_count": 76,
   "id": "d3c57ea7-11f6-4e32-ba04-95c6058be1f2",
   "metadata": {},
   "outputs": [
    {
     "name": "stdout",
     "output_type": "stream",
     "text": [
      "\n",
      "Augmenting images in folder: F:/images/preprocessed_data\\chest\n"
     ]
    },
    {
     "name": "stderr",
     "output_type": "stream",
     "text": [
      "Augmenting chest: 100%|██████████████████████████████████████████████████████████████| 356/356 [00:32<00:00, 10.85it/s]\n"
     ]
    },
    {
     "name": "stdout",
     "output_type": "stream",
     "text": [
      "Completed augmentation of 356 images in 'chest' with 4 augmentations each.\n",
      "\n",
      "Augmenting images in folder: F:/images/preprocessed_data\\non_chest\n"
     ]
    },
    {
     "name": "stderr",
     "output_type": "stream",
     "text": [
      "Augmenting non_chest: 100%|██████████████████████████████████████████████████████████| 393/393 [00:33<00:00, 11.59it/s]"
     ]
    },
    {
     "name": "stdout",
     "output_type": "stream",
     "text": [
      "Completed augmentation of 393 images in 'non_chest' with 4 augmentations each.\n",
      "\n",
      "Data augmentation completed for both 'chest' and 'others' folders\n"
     ]
    },
    {
     "name": "stderr",
     "output_type": "stream",
     "text": [
      "\n"
     ]
    }
   ],
   "source": [
    "base_path = \"F:/images/preprocessed_data\"  # Base folder with 'chest' and 'others' subfolders\n",
    "folders = ['chest', 'non_chest']\n",
    "num_augmentations = 4\n",
    "image_size = (224, 224)  \n",
    "\n",
    "datagen = ImageDataGenerator(\n",
    "    rotation_range=10,\n",
    "    zoom_range=0.1,\n",
    "    width_shift_range=0.05,\n",
    "    height_shift_range=0.05,\n",
    "    brightness_range=(0.9, 1.1),\n",
    "    horizontal_flip=True,\n",
    "    fill_mode='nearest'\n",
    ")\n",
    "\n",
    "def augment_image(image_path, save_prefix, output_folder, num_copies):\n",
    "    img = load_img(image_path, color_mode='rgb' if convert_to_rgb else 'grayscale', target_size=image_size)\n",
    "    x = img_to_array(img).reshape((1,) + img_to_array(img).shape)\n",
    "    gen = datagen.flow(x, batch_size=1)\n",
    "    \n",
    "    for i in range(1, num_copies + 1):\n",
    "        suffix = f\"_aug{str(i).zfill(3)}\"\n",
    "        filename = f\"{save_prefix}{suffix}.png\"\n",
    "        save_path = os.path.join(output_folder, filename)\n",
    "        aug_img_array = next(gen)[0].astype('uint8')\n",
    "        img_pil = Image.fromarray(aug_img_array if convert_to_rgb else aug_img_array.squeeze(), mode='RGB' if convert_to_rgb else 'L')\n",
    "        img_pil.save(save_path)\n",
    "\n",
    "#Augmentation Process\n",
    "for folder in folders:\n",
    "    folder_path = os.path.join(base_path, folder)\n",
    "    augment_count = defaultdict(int)\n",
    "    \n",
    "    print(f\"\\nAugmenting images in folder: {folder_path}\")\n",
    "    \n",
    "    for filename in tqdm(os.listdir(folder_path), desc=f\"Augmenting {folder}\"):\n",
    "        if not filename.lower().endswith(('.png', '.jpg', '.jpeg')):\n",
    "            continue\n",
    "        \n",
    "        src_path = os.path.join(folder_path, filename)\n",
    "        base_name = os.path.splitext(filename)[0]\n",
    "        new_base = f\"{folder}_{base_name}\"\n",
    "        \n",
    "        # Augment and save augmented images in the same folder\n",
    "        augment_image(src_path, new_base, folder_path, num_augmentations)\n",
    "        \n",
    "        augment_count[filename] = num_augmentations\n",
    "    \n",
    "    print(f\"Completed augmentation of {len(augment_count)} images in '{folder}' with {num_augmentations} augmentations each.\")\n",
    "\n",
    "print(\"\\nData augmentation completed for both 'chest' and 'others' folders\")\n"
   ]
  },
  {
   "cell_type": "code",
   "execution_count": 77,
   "id": "40341166-f152-476d-9bd0-1ca1136c1cf2",
   "metadata": {},
   "outputs": [],
   "source": [
    "batch_size = 16\n",
    "num_classes = 2\n",
    "learning_rate = 1e-4 #how much the model's weights are updated\n",
    "epochs = 10\n",
    "img_size = (224, 224)"
   ]
  },
  {
   "cell_type": "code",
   "execution_count": 78,
   "id": "c5d37573-15df-4e20-8c8e-d3fd99513d31",
   "metadata": {},
   "outputs": [],
   "source": [
    "#Data Generators\n",
    "train_datagen = ImageDataGenerator(\n",
    "    rescale=1./255,\n",
    "    validation_split=0.2,       # 20% data for validation\n",
    "    rotation_range=10,\n",
    "    zoom_range=0.1,\n",
    "    width_shift_range=0.05,\n",
    "    height_shift_range=0.05,\n",
    "    horizontal_flip=True,\n",
    "    fill_mode='nearest'\n",
    ")"
   ]
  },
  {
   "cell_type": "code",
   "execution_count": 79,
   "id": "66ceac30-00e7-4e15-aab9-e8d5e5819741",
   "metadata": {},
   "outputs": [
    {
     "name": "stdout",
     "output_type": "stream",
     "text": [
      "Found 2996 images belonging to 2 classes.\n",
      "Found 749 images belonging to 2 classes.\n"
     ]
    }
   ],
   "source": [
    "# Train generator loads from subfolders ('chest', 'others')\n",
    "train_generator = train_datagen.flow_from_directory(\n",
    "    base_path,\n",
    "    target_size=img_size,\n",
    "    batch_size=batch_size,\n",
    "    class_mode='sparse',         #returns integer labels (0 or 1)\n",
    "    subset='training',\n",
    "    shuffle=True,\n",
    "    seed=42\n",
    ")\n",
    "\n",
    "validation_generator = train_datagen.flow_from_directory(\n",
    "    base_path,\n",
    "    target_size=img_size,\n",
    "    batch_size=batch_size,\n",
    "    class_mode='sparse',\n",
    "    subset='validation',\n",
    "    shuffle=False,\n",
    "    seed=42\n",
    ")\n"
   ]
  },
  {
   "cell_type": "code",
   "execution_count": 80,
   "id": "930de14d-ea75-443f-bfef-d64b160d55c6",
   "metadata": {},
   "outputs": [],
   "source": [
    "#Model Definition\n",
    "input_shape = img_size + (3,)  \n",
    "\n",
    "base_model = DenseNet121(weights='imagenet', include_top=False, input_shape=input_shape)\n",
    "\n",
    "#Freeze base layers initially to retain pre-trained knowledge from ImageNet.\n",
    "for layer in base_model.layers:\n",
    "    layer.trainable = False\n",
    "    \n",
    "#Helps prevent overfitting.\n",
    "x = base_model.output\n",
    "x = GlobalAveragePooling2D()(x)\n",
    "x = Dropout(0.5)(x)\n",
    "output = Dense(num_classes, activation='softmax')(x)\n",
    "\n",
    "model = Model(inputs=base_model.input, outputs=output)\n",
    "\n",
    "model.compile(optimizer=Adam(learning_rate=learning_rate),\n",
    "              loss='sparse_categorical_crossentropy',\n",
    "              metrics=['accuracy'])\n"
   ]
  },
  {
   "cell_type": "code",
   "execution_count": 81,
   "id": "6aec12ac-e29c-412d-ba0e-ee31fcedea60",
   "metadata": {},
   "outputs": [
    {
     "name": "stderr",
     "output_type": "stream",
     "text": [
      "C:\\Users\\intmay25\\AppData\\Local\\anaconda3\\Lib\\site-packages\\keras\\src\\trainers\\data_adapters\\py_dataset_adapter.py:121: UserWarning: Your `PyDataset` class should call `super().__init__(**kwargs)` in its constructor. `**kwargs` can include `workers`, `use_multiprocessing`, `max_queue_size`. Do not pass these arguments to `fit()`, as they will be ignored.\n",
      "  self._warn_if_super_not_called()\n"
     ]
    },
    {
     "name": "stdout",
     "output_type": "stream",
     "text": [
      "Epoch 1/10\n",
      "\u001b[1m188/188\u001b[0m \u001b[32m━━━━━━━━━━━━━━━━━━━━\u001b[0m\u001b[37m\u001b[0m \u001b[1m185s\u001b[0m 931ms/step - accuracy: 0.5322 - loss: 0.9825 - val_accuracy: 0.8398 - val_loss: 0.4135\n",
      "Epoch 2/10\n",
      "\u001b[1m188/188\u001b[0m \u001b[32m━━━━━━━━━━━━━━━━━━━━\u001b[0m\u001b[37m\u001b[0m \u001b[1m168s\u001b[0m 894ms/step - accuracy: 0.8052 - loss: 0.4255 - val_accuracy: 0.9947 - val_loss: 0.1473\n",
      "Epoch 3/10\n",
      "\u001b[1m188/188\u001b[0m \u001b[32m━━━━━━━━━━━━━━━━━━━━\u001b[0m\u001b[37m\u001b[0m \u001b[1m168s\u001b[0m 896ms/step - accuracy: 0.8985 - loss: 0.2402 - val_accuracy: 0.9973 - val_loss: 0.0740\n",
      "Epoch 4/10\n",
      "\u001b[1m188/188\u001b[0m \u001b[32m━━━━━━━━━━━━━━━━━━━━\u001b[0m\u001b[37m\u001b[0m \u001b[1m167s\u001b[0m 887ms/step - accuracy: 0.9450 - loss: 0.1572 - val_accuracy: 0.9960 - val_loss: 0.0460\n",
      "Epoch 5/10\n",
      "\u001b[1m188/188\u001b[0m \u001b[32m━━━━━━━━━━━━━━━━━━━━\u001b[0m\u001b[37m\u001b[0m \u001b[1m170s\u001b[0m 905ms/step - accuracy: 0.9737 - loss: 0.1051 - val_accuracy: 0.9973 - val_loss: 0.0325\n",
      "Epoch 6/10\n",
      "\u001b[1m188/188\u001b[0m \u001b[32m━━━━━━━━━━━━━━━━━━━━\u001b[0m\u001b[37m\u001b[0m \u001b[1m165s\u001b[0m 876ms/step - accuracy: 0.9673 - loss: 0.1032 - val_accuracy: 0.9973 - val_loss: 0.0250\n",
      "Epoch 7/10\n",
      "\u001b[1m188/188\u001b[0m \u001b[32m━━━━━━━━━━━━━━━━━━━━\u001b[0m\u001b[37m\u001b[0m \u001b[1m172s\u001b[0m 914ms/step - accuracy: 0.9774 - loss: 0.0813 - val_accuracy: 0.9973 - val_loss: 0.0182\n",
      "Epoch 8/10\n",
      "\u001b[1m188/188\u001b[0m \u001b[32m━━━━━━━━━━━━━━━━━━━━\u001b[0m\u001b[37m\u001b[0m \u001b[1m172s\u001b[0m 914ms/step - accuracy: 0.9799 - loss: 0.0707 - val_accuracy: 0.9987 - val_loss: 0.0162\n",
      "Epoch 9/10\n",
      "\u001b[1m188/188\u001b[0m \u001b[32m━━━━━━━━━━━━━━━━━━━━\u001b[0m\u001b[37m\u001b[0m \u001b[1m167s\u001b[0m 890ms/step - accuracy: 0.9901 - loss: 0.0562 - val_accuracy: 0.9987 - val_loss: 0.0126\n",
      "Epoch 10/10\n",
      "\u001b[1m188/188\u001b[0m \u001b[32m━━━━━━━━━━━━━━━━━━━━\u001b[0m\u001b[37m\u001b[0m \u001b[1m171s\u001b[0m 907ms/step - accuracy: 0.9837 - loss: 0.0579 - val_accuracy: 0.9987 - val_loss: 0.0109\n"
     ]
    }
   ],
   "source": [
    "#Training\n",
    "history = model.fit(\n",
    "    train_generator,\n",
    "    validation_data=validation_generator,\n",
    "    epochs=epochs,\n",
    "    verbose=1\n",
    ")"
   ]
  },
  {
   "cell_type": "code",
   "execution_count": 82,
   "id": "0d66cc88-7387-4835-8ae9-7acd5527c6a5",
   "metadata": {},
   "outputs": [
    {
     "name": "stdout",
     "output_type": "stream",
     "text": [
      "\n",
      "Evaluation on Training Data\n",
      "\u001b[1m188/188\u001b[0m \u001b[32m━━━━━━━━━━━━━━━━━━━━\u001b[0m\u001b[37m\u001b[0m \u001b[1m137s\u001b[0m 729ms/step - accuracy: 0.9978 - loss: 0.0201\n",
      "Training Accuracy: 99.63%\n",
      "\n",
      "Evaluation on Validation Data\n",
      "\u001b[1m47/47\u001b[0m \u001b[32m━━━━━━━━━━━━━━━━━━━━\u001b[0m\u001b[37m\u001b[0m \u001b[1m34s\u001b[0m 710ms/step - accuracy: 0.9955 - loss: 0.0170\n",
      "Validation Accuracy: 99.87%\n"
     ]
    }
   ],
   "source": [
    "#After training completes\n",
    "print(\"\\nEvaluation on Training Data\")\n",
    "train_loss, train_acc = model.evaluate(train_generator, verbose=1)\n",
    "print(f\"Training Accuracy: {train_acc*100:.2f}%\")\n",
    "\n",
    "print(\"\\nEvaluation on Validation Data\")\n",
    "val_loss, val_acc = model.evaluate(validation_generator, verbose=1)\n",
    "print(f\"Validation Accuracy: {val_acc*100:.2f}%\")"
   ]
  },
  {
   "cell_type": "code",
   "execution_count": 83,
   "id": "8ba77ebf-e3c6-4a8c-aa26-37f2a1f4be21",
   "metadata": {},
   "outputs": [
    {
     "name": "stdout",
     "output_type": "stream",
     "text": [
      "\u001b[1m47/47\u001b[0m \u001b[32m━━━━━━━━━━━━━━━━━━━━\u001b[0m\u001b[37m\u001b[0m \u001b[1m40s\u001b[0m 787ms/step\n",
      "\n",
      "Classification Report:\n",
      "              precision    recall  f1-score   support\n",
      "\n",
      "       chest       1.00      1.00      1.00       356\n",
      "   non_chest       1.00      1.00      1.00       393\n",
      "\n",
      "    accuracy                           1.00       749\n",
      "   macro avg       1.00      1.00      1.00       749\n",
      "weighted avg       1.00      1.00      1.00       749\n",
      "\n",
      "\n",
      "Confusion Matrix:\n",
      "[[355   1]\n",
      " [  0 393]]\n"
     ]
    }
   ],
   "source": [
    "#Get predictions from validation generator\n",
    "val_preds = model.predict(validation_generator)\n",
    "y_pred = np.argmax(val_preds, axis=1)\n",
    "y_true = validation_generator.classes\n",
    "\n",
    "print(\"\\nClassification Report:\")\n",
    "print(classification_report(y_true, y_pred, target_names=validation_generator.class_indices.keys()))\n",
    "\n",
    "print(\"\\nConfusion Matrix:\")\n",
    "print(confusion_matrix(y_true, y_pred))"
   ]
  },
  {
   "cell_type": "code",
   "execution_count": 84,
   "id": "bf821926-ec2b-481a-ac63-c1a69d39cc42",
   "metadata": {},
   "outputs": [
    {
     "name": "stderr",
     "output_type": "stream",
     "text": [
      "WARNING:absl:You are saving your model as an HDF5 file via `model.save()` or `keras.saving.save_model(model)`. This file format is considered legacy. We recommend using instead the native Keras format, e.g. `model.save('my_model.keras')` or `keras.saving.save_model(model, 'my_model.keras')`. \n"
     ]
    },
    {
     "name": "stdout",
     "output_type": "stream",
     "text": [
      " Model saved successfully!\n"
     ]
    }
   ],
   "source": [
    "model.save(\"chest_xray_classifier1.h5\")\n",
    "print(\" Model saved successfully!\")"
   ]
  },
  {
   "cell_type": "code",
   "execution_count": 85,
   "id": "73b37878-700d-44d9-80bf-bf7457b54098",
   "metadata": {},
   "outputs": [
    {
     "name": "stderr",
     "output_type": "stream",
     "text": [
      "WARNING:absl:Compiled the loaded model, but the compiled metrics have yet to be built. `model.compile_metrics` will be empty until you train or evaluate the model.\n"
     ]
    }
   ],
   "source": [
    "#Load your trained model\n",
    "model = load_model(\"chest_xray_classifier1.h5\")"
   ]
  },
  {
   "cell_type": "code",
   "execution_count": 86,
   "id": "a2c66a42-400c-417d-b634-dd34b19e3b8a",
   "metadata": {},
   "outputs": [],
   "source": [
    "# Define your class labels\n",
    "class_labels = ['chest', 'others']  # Modify based on your model\n",
    "\n",
    "def crop_lung_region(img):\n",
    "    h, w = img.shape\n",
    "    x_start = int(w * 0.15)\n",
    "    x_end = int(w * 0.85)\n",
    "    y_start = int(h * 0.05)\n",
    "    y_end = int(h * 0.85)\n",
    "    return img[y_start:y_end, x_start:x_end]\n",
    "\n",
    "def load_image(path, target_size=(224, 224)):\n",
    "    ext = os.path.splitext(path)[1].lower()\n",
    "    if ext == '.dcm':\n",
    "        dcm = pydicom.dcmread(path)\n",
    "        img = dcm.pixel_array.astype(np.float32)\n",
    "        img = (img - np.min(img)) / (np.max(img) - np.min(img)) * 255.0\n",
    "        img = img.astype(np.uint8)\n",
    "        img_cropped = crop_lung_region(img)\n",
    "        img_rgb = cv2.cvtColor(img_cropped, cv2.COLOR_GRAY2RGB)\n",
    "        img_resized = cv2.resize(img_rgb, target_size)\n",
    "        return img_resized\n",
    "    else:\n",
    "        img = image.load_img(path, target_size=target_size)\n",
    "        img = image.img_to_array(img)\n",
    "        return img.astype(np.uint8)\n"
   ]
  },
  {
   "cell_type": "code",
   "execution_count": 87,
   "id": "178f7059-1e7b-4976-b0fc-d6a2704bb011",
   "metadata": {},
   "outputs": [],
   "source": [
    "def predict_folder_images():\n",
    "    root = tk.Tk()\n",
    "    root.withdraw()\n",
    "\n",
    "    folder_path = filedialog.askdirectory(title=\"Select Folder with X-ray Images\")\n",
    "    if not folder_path:\n",
    "        print(\"No folder selected.\")\n",
    "        return\n",
    "\n",
    "    results = []\n",
    "    supported_exts = ('.png', '.jpg', '.jpeg', '.bmp', '.dcm')\n",
    "\n",
    "    for fname in os.listdir(folder_path):\n",
    "        if not fname.lower().endswith(supported_exts):\n",
    "            continue\n",
    "\n",
    "        full_path = os.path.join(folder_path, fname)\n",
    "        try:\n",
    "            img = load_image(full_path)\n",
    "            img_array = np.expand_dims(img, axis=0) / 255.0\n",
    "\n",
    "            prediction = model.predict(img_array)\n",
    "            predicted_class = class_labels[np.argmax(prediction)]\n",
    "            confidence = np.max(prediction) * 100\n",
    "\n",
    "            results.append({\n",
    "                'File Name': fname,\n",
    "                'Predicted Class': predicted_class,\n",
    "                'Confidence (%)': round(confidence, 2)\n",
    "            })\n",
    "\n",
    "            print(f\"{fname}: {predicted_class} ({confidence:.2f}%)\")\n",
    "\n",
    "        except Exception as e:\n",
    "            print(f\"Error processing {fname}: {e}\")\n",
    "\n",
    "    if results:\n",
    "        df = pd.DataFrame(results)\n",
    "\n",
    "        # Ask where to save the CSV file\n",
    "        save_path = filedialog.asksaveasfilename(\n",
    "            defaultextension='.csv',\n",
    "            filetypes=[(\"CSV files\", \"*.csv\")],\n",
    "            title=\"Save Predictions CSV\"\n",
    "        )\n",
    "\n",
    "        if save_path:\n",
    "            df.to_csv(save_path, index=False)\n",
    "            print(f\"\\nPredictions saved to: {save_path}\")\n",
    "        else:\n",
    "            print(\"\\nSave cancelled.\")\n",
    "\n",
    "    else:\n",
    "        print(\"No valid images found or predictions failed.\")\n"
   ]
  },
  {
   "cell_type": "code",
   "execution_count": 88,
   "id": "366b2f6f-27ba-4736-834a-6d74674fb222",
   "metadata": {},
   "outputs": [
    {
     "name": "stderr",
     "output_type": "stream",
     "text": [
      "WARNING:pydicom:A value of 'None' for (0028,0008) 'Number of Frames' is invalid, assuming 1 frame\n",
      "C:\\Users\\intmay25\\AppData\\Local\\anaconda3\\Lib\\site-packages\\pydicom\\pixels\\utils.py:222: UserWarning: A value of 'None' for (0028,0008) 'Number of Frames' is invalid, assuming 1 frame\n",
      "  warn_and_log(\n",
      "WARNING:pydicom:A value of 'None' for (0028,0008) 'Number of Frames' is invalid, assuming 1 frame\n"
     ]
    },
    {
     "name": "stdout",
     "output_type": "stream",
     "text": [
      "\u001b[1m1/1\u001b[0m \u001b[32m━━━━━━━━━━━━━━━━━━━━\u001b[0m\u001b[37m\u001b[0m \u001b[1m3s\u001b[0m 3s/step\n"
     ]
    },
    {
     "name": "stderr",
     "output_type": "stream",
     "text": [
      "WARNING:pydicom:A value of 'None' for (0028,0008) 'Number of Frames' is invalid, assuming 1 frame\n",
      "WARNING:pydicom:A value of 'None' for (0028,0008) 'Number of Frames' is invalid, assuming 1 frame\n"
     ]
    },
    {
     "name": "stdout",
     "output_type": "stream",
     "text": [
      "NIRT_DS01_00001.dcm: chest (97.58%)\n",
      "\u001b[1m1/1\u001b[0m \u001b[32m━━━━━━━━━━━━━━━━━━━━\u001b[0m\u001b[37m\u001b[0m \u001b[1m0s\u001b[0m 180ms/step\n"
     ]
    },
    {
     "name": "stderr",
     "output_type": "stream",
     "text": [
      "WARNING:pydicom:A value of 'None' for (0028,0008) 'Number of Frames' is invalid, assuming 1 frame\n",
      "WARNING:pydicom:A value of 'None' for (0028,0008) 'Number of Frames' is invalid, assuming 1 frame\n"
     ]
    },
    {
     "name": "stdout",
     "output_type": "stream",
     "text": [
      "NIRT_DS01_00002.dcm: chest (99.76%)\n",
      "\u001b[1m1/1\u001b[0m \u001b[32m━━━━━━━━━━━━━━━━━━━━\u001b[0m\u001b[37m\u001b[0m \u001b[1m0s\u001b[0m 175ms/step\n"
     ]
    },
    {
     "name": "stderr",
     "output_type": "stream",
     "text": [
      "WARNING:pydicom:A value of 'None' for (0028,0008) 'Number of Frames' is invalid, assuming 1 frame\n",
      "WARNING:pydicom:A value of 'None' for (0028,0008) 'Number of Frames' is invalid, assuming 1 frame\n"
     ]
    },
    {
     "name": "stdout",
     "output_type": "stream",
     "text": [
      "NIRT_DS01_00003.dcm: chest (99.77%)\n",
      "\u001b[1m1/1\u001b[0m \u001b[32m━━━━━━━━━━━━━━━━━━━━\u001b[0m\u001b[37m\u001b[0m \u001b[1m0s\u001b[0m 176ms/step\n"
     ]
    },
    {
     "name": "stderr",
     "output_type": "stream",
     "text": [
      "WARNING:pydicom:A value of 'None' for (0028,0008) 'Number of Frames' is invalid, assuming 1 frame\n",
      "WARNING:pydicom:A value of 'None' for (0028,0008) 'Number of Frames' is invalid, assuming 1 frame\n"
     ]
    },
    {
     "name": "stdout",
     "output_type": "stream",
     "text": [
      "NIRT_DS01_00004.dcm: chest (98.15%)\n",
      "\u001b[1m1/1\u001b[0m \u001b[32m━━━━━━━━━━━━━━━━━━━━\u001b[0m\u001b[37m\u001b[0m \u001b[1m0s\u001b[0m 186ms/step\n"
     ]
    },
    {
     "name": "stderr",
     "output_type": "stream",
     "text": [
      "WARNING:pydicom:A value of 'None' for (0028,0008) 'Number of Frames' is invalid, assuming 1 frame\n",
      "WARNING:pydicom:A value of 'None' for (0028,0008) 'Number of Frames' is invalid, assuming 1 frame\n"
     ]
    },
    {
     "name": "stdout",
     "output_type": "stream",
     "text": [
      "NIRT_DS01_00005.dcm: chest (99.74%)\n",
      "\u001b[1m1/1\u001b[0m \u001b[32m━━━━━━━━━━━━━━━━━━━━\u001b[0m\u001b[37m\u001b[0m \u001b[1m0s\u001b[0m 187ms/step\n"
     ]
    },
    {
     "name": "stderr",
     "output_type": "stream",
     "text": [
      "WARNING:pydicom:A value of 'None' for (0028,0008) 'Number of Frames' is invalid, assuming 1 frame\n",
      "WARNING:pydicom:A value of 'None' for (0028,0008) 'Number of Frames' is invalid, assuming 1 frame\n"
     ]
    },
    {
     "name": "stdout",
     "output_type": "stream",
     "text": [
      "NIRT_DS01_00006.dcm: chest (98.60%)\n",
      "\u001b[1m1/1\u001b[0m \u001b[32m━━━━━━━━━━━━━━━━━━━━\u001b[0m\u001b[37m\u001b[0m \u001b[1m0s\u001b[0m 185ms/step\n"
     ]
    },
    {
     "name": "stderr",
     "output_type": "stream",
     "text": [
      "WARNING:pydicom:A value of 'None' for (0028,0008) 'Number of Frames' is invalid, assuming 1 frame\n",
      "WARNING:pydicom:A value of 'None' for (0028,0008) 'Number of Frames' is invalid, assuming 1 frame\n"
     ]
    },
    {
     "name": "stdout",
     "output_type": "stream",
     "text": [
      "NIRT_DS01_00007.dcm: chest (95.81%)\n",
      "\u001b[1m1/1\u001b[0m \u001b[32m━━━━━━━━━━━━━━━━━━━━\u001b[0m\u001b[37m\u001b[0m \u001b[1m0s\u001b[0m 177ms/step\n"
     ]
    },
    {
     "name": "stderr",
     "output_type": "stream",
     "text": [
      "WARNING:pydicom:A value of 'None' for (0028,0008) 'Number of Frames' is invalid, assuming 1 frame\n",
      "WARNING:pydicom:A value of 'None' for (0028,0008) 'Number of Frames' is invalid, assuming 1 frame\n"
     ]
    },
    {
     "name": "stdout",
     "output_type": "stream",
     "text": [
      "NIRT_DS01_00008.dcm: chest (99.62%)\n",
      "\u001b[1m1/1\u001b[0m \u001b[32m━━━━━━━━━━━━━━━━━━━━\u001b[0m\u001b[37m\u001b[0m \u001b[1m0s\u001b[0m 177ms/step\n"
     ]
    },
    {
     "name": "stderr",
     "output_type": "stream",
     "text": [
      "WARNING:pydicom:A value of 'None' for (0028,0008) 'Number of Frames' is invalid, assuming 1 frame\n",
      "WARNING:pydicom:A value of 'None' for (0028,0008) 'Number of Frames' is invalid, assuming 1 frame\n"
     ]
    },
    {
     "name": "stdout",
     "output_type": "stream",
     "text": [
      "NIRT_DS01_00009.dcm: chest (99.33%)\n",
      "\u001b[1m1/1\u001b[0m \u001b[32m━━━━━━━━━━━━━━━━━━━━\u001b[0m\u001b[37m\u001b[0m \u001b[1m0s\u001b[0m 183ms/step\n"
     ]
    },
    {
     "name": "stderr",
     "output_type": "stream",
     "text": [
      "WARNING:pydicom:A value of 'None' for (0028,0008) 'Number of Frames' is invalid, assuming 1 frame\n",
      "WARNING:pydicom:A value of 'None' for (0028,0008) 'Number of Frames' is invalid, assuming 1 frame\n"
     ]
    },
    {
     "name": "stdout",
     "output_type": "stream",
     "text": [
      "NIRT_DS01_00010.dcm: chest (99.54%)\n",
      "\u001b[1m1/1\u001b[0m \u001b[32m━━━━━━━━━━━━━━━━━━━━\u001b[0m\u001b[37m\u001b[0m \u001b[1m0s\u001b[0m 180ms/step\n"
     ]
    },
    {
     "name": "stderr",
     "output_type": "stream",
     "text": [
      "WARNING:pydicom:A value of 'None' for (0028,0008) 'Number of Frames' is invalid, assuming 1 frame\n",
      "WARNING:pydicom:A value of 'None' for (0028,0008) 'Number of Frames' is invalid, assuming 1 frame\n"
     ]
    },
    {
     "name": "stdout",
     "output_type": "stream",
     "text": [
      "NIRT_DS01_00011.dcm: chest (99.77%)\n",
      "\u001b[1m1/1\u001b[0m \u001b[32m━━━━━━━━━━━━━━━━━━━━\u001b[0m\u001b[37m\u001b[0m \u001b[1m0s\u001b[0m 176ms/step\n"
     ]
    },
    {
     "name": "stderr",
     "output_type": "stream",
     "text": [
      "WARNING:pydicom:A value of 'None' for (0028,0008) 'Number of Frames' is invalid, assuming 1 frame\n",
      "WARNING:pydicom:A value of 'None' for (0028,0008) 'Number of Frames' is invalid, assuming 1 frame\n"
     ]
    },
    {
     "name": "stdout",
     "output_type": "stream",
     "text": [
      "NIRT_DS01_00012.dcm: chest (98.67%)\n",
      "\u001b[1m1/1\u001b[0m \u001b[32m━━━━━━━━━━━━━━━━━━━━\u001b[0m\u001b[37m\u001b[0m \u001b[1m0s\u001b[0m 183ms/step\n"
     ]
    },
    {
     "name": "stderr",
     "output_type": "stream",
     "text": [
      "WARNING:pydicom:A value of 'None' for (0028,0008) 'Number of Frames' is invalid, assuming 1 frame\n",
      "WARNING:pydicom:A value of 'None' for (0028,0008) 'Number of Frames' is invalid, assuming 1 frame\n"
     ]
    },
    {
     "name": "stdout",
     "output_type": "stream",
     "text": [
      "NIRT_DS01_00013.dcm: chest (99.94%)\n",
      "\u001b[1m1/1\u001b[0m \u001b[32m━━━━━━━━━━━━━━━━━━━━\u001b[0m\u001b[37m\u001b[0m \u001b[1m0s\u001b[0m 176ms/step\n"
     ]
    },
    {
     "name": "stderr",
     "output_type": "stream",
     "text": [
      "WARNING:pydicom:A value of 'None' for (0028,0008) 'Number of Frames' is invalid, assuming 1 frame\n",
      "WARNING:pydicom:A value of 'None' for (0028,0008) 'Number of Frames' is invalid, assuming 1 frame\n"
     ]
    },
    {
     "name": "stdout",
     "output_type": "stream",
     "text": [
      "NIRT_DS01_00014.dcm: chest (99.03%)\n",
      "\u001b[1m1/1\u001b[0m \u001b[32m━━━━━━━━━━━━━━━━━━━━\u001b[0m\u001b[37m\u001b[0m \u001b[1m0s\u001b[0m 175ms/step\n"
     ]
    },
    {
     "name": "stderr",
     "output_type": "stream",
     "text": [
      "WARNING:pydicom:A value of 'None' for (0028,0008) 'Number of Frames' is invalid, assuming 1 frame\n",
      "WARNING:pydicom:A value of 'None' for (0028,0008) 'Number of Frames' is invalid, assuming 1 frame\n"
     ]
    },
    {
     "name": "stdout",
     "output_type": "stream",
     "text": [
      "NIRT_DS01_00015.dcm: chest (97.94%)\n",
      "\u001b[1m1/1\u001b[0m \u001b[32m━━━━━━━━━━━━━━━━━━━━\u001b[0m\u001b[37m\u001b[0m \u001b[1m0s\u001b[0m 177ms/step\n"
     ]
    },
    {
     "name": "stderr",
     "output_type": "stream",
     "text": [
      "WARNING:pydicom:A value of 'None' for (0028,0008) 'Number of Frames' is invalid, assuming 1 frame\n",
      "WARNING:pydicom:A value of 'None' for (0028,0008) 'Number of Frames' is invalid, assuming 1 frame\n"
     ]
    },
    {
     "name": "stdout",
     "output_type": "stream",
     "text": [
      "NIRT_DS01_00016.dcm: chest (99.70%)\n",
      "\u001b[1m1/1\u001b[0m \u001b[32m━━━━━━━━━━━━━━━━━━━━\u001b[0m\u001b[37m\u001b[0m \u001b[1m0s\u001b[0m 174ms/step\n"
     ]
    },
    {
     "name": "stderr",
     "output_type": "stream",
     "text": [
      "WARNING:pydicom:A value of 'None' for (0028,0008) 'Number of Frames' is invalid, assuming 1 frame\n",
      "WARNING:pydicom:A value of 'None' for (0028,0008) 'Number of Frames' is invalid, assuming 1 frame\n"
     ]
    },
    {
     "name": "stdout",
     "output_type": "stream",
     "text": [
      "NIRT_DS01_00017.dcm: chest (99.48%)\n",
      "\u001b[1m1/1\u001b[0m \u001b[32m━━━━━━━━━━━━━━━━━━━━\u001b[0m\u001b[37m\u001b[0m \u001b[1m0s\u001b[0m 177ms/step\n"
     ]
    },
    {
     "name": "stderr",
     "output_type": "stream",
     "text": [
      "WARNING:pydicom:A value of 'None' for (0028,0008) 'Number of Frames' is invalid, assuming 1 frame\n",
      "WARNING:pydicom:A value of 'None' for (0028,0008) 'Number of Frames' is invalid, assuming 1 frame\n"
     ]
    },
    {
     "name": "stdout",
     "output_type": "stream",
     "text": [
      "NIRT_DS01_00018.dcm: chest (98.55%)\n",
      "\u001b[1m1/1\u001b[0m \u001b[32m━━━━━━━━━━━━━━━━━━━━\u001b[0m\u001b[37m\u001b[0m \u001b[1m0s\u001b[0m 174ms/step\n"
     ]
    },
    {
     "name": "stderr",
     "output_type": "stream",
     "text": [
      "WARNING:pydicom:A value of 'None' for (0028,0008) 'Number of Frames' is invalid, assuming 1 frame\n",
      "WARNING:pydicom:A value of 'None' for (0028,0008) 'Number of Frames' is invalid, assuming 1 frame\n"
     ]
    },
    {
     "name": "stdout",
     "output_type": "stream",
     "text": [
      "NIRT_DS01_00019.dcm: chest (51.52%)\n",
      "\u001b[1m1/1\u001b[0m \u001b[32m━━━━━━━━━━━━━━━━━━━━\u001b[0m\u001b[37m\u001b[0m \u001b[1m0s\u001b[0m 179ms/step\n"
     ]
    },
    {
     "name": "stderr",
     "output_type": "stream",
     "text": [
      "WARNING:pydicom:A value of 'None' for (0028,0008) 'Number of Frames' is invalid, assuming 1 frame\n",
      "WARNING:pydicom:A value of 'None' for (0028,0008) 'Number of Frames' is invalid, assuming 1 frame\n"
     ]
    },
    {
     "name": "stdout",
     "output_type": "stream",
     "text": [
      "NIRT_DS01_00020.dcm: chest (99.34%)\n",
      "\u001b[1m1/1\u001b[0m \u001b[32m━━━━━━━━━━━━━━━━━━━━\u001b[0m\u001b[37m\u001b[0m \u001b[1m0s\u001b[0m 175ms/step\n"
     ]
    },
    {
     "name": "stderr",
     "output_type": "stream",
     "text": [
      "WARNING:pydicom:A value of 'None' for (0028,0008) 'Number of Frames' is invalid, assuming 1 frame\n",
      "WARNING:pydicom:A value of 'None' for (0028,0008) 'Number of Frames' is invalid, assuming 1 frame\n"
     ]
    },
    {
     "name": "stdout",
     "output_type": "stream",
     "text": [
      "NIRT_DS01_00021.dcm: chest (99.82%)\n",
      "\u001b[1m1/1\u001b[0m \u001b[32m━━━━━━━━━━━━━━━━━━━━\u001b[0m\u001b[37m\u001b[0m \u001b[1m0s\u001b[0m 184ms/step\n"
     ]
    },
    {
     "name": "stderr",
     "output_type": "stream",
     "text": [
      "WARNING:pydicom:A value of 'None' for (0028,0008) 'Number of Frames' is invalid, assuming 1 frame\n",
      "WARNING:pydicom:A value of 'None' for (0028,0008) 'Number of Frames' is invalid, assuming 1 frame\n"
     ]
    },
    {
     "name": "stdout",
     "output_type": "stream",
     "text": [
      "NIRT_DS01_00022.dcm: chest (98.05%)\n",
      "\u001b[1m1/1\u001b[0m \u001b[32m━━━━━━━━━━━━━━━━━━━━\u001b[0m\u001b[37m\u001b[0m \u001b[1m0s\u001b[0m 173ms/step\n"
     ]
    },
    {
     "name": "stderr",
     "output_type": "stream",
     "text": [
      "WARNING:pydicom:A value of 'None' for (0028,0008) 'Number of Frames' is invalid, assuming 1 frame\n",
      "WARNING:pydicom:A value of 'None' for (0028,0008) 'Number of Frames' is invalid, assuming 1 frame\n"
     ]
    },
    {
     "name": "stdout",
     "output_type": "stream",
     "text": [
      "NIRT_DS01_00023.dcm: chest (99.75%)\n",
      "\u001b[1m1/1\u001b[0m \u001b[32m━━━━━━━━━━━━━━━━━━━━\u001b[0m\u001b[37m\u001b[0m \u001b[1m0s\u001b[0m 174ms/step\n"
     ]
    },
    {
     "name": "stderr",
     "output_type": "stream",
     "text": [
      "WARNING:pydicom:A value of 'None' for (0028,0008) 'Number of Frames' is invalid, assuming 1 frame\n",
      "WARNING:pydicom:A value of 'None' for (0028,0008) 'Number of Frames' is invalid, assuming 1 frame\n"
     ]
    },
    {
     "name": "stdout",
     "output_type": "stream",
     "text": [
      "NIRT_DS01_00024.dcm: chest (99.92%)\n",
      "\u001b[1m1/1\u001b[0m \u001b[32m━━━━━━━━━━━━━━━━━━━━\u001b[0m\u001b[37m\u001b[0m \u001b[1m0s\u001b[0m 178ms/step\n"
     ]
    },
    {
     "name": "stderr",
     "output_type": "stream",
     "text": [
      "WARNING:pydicom:A value of 'None' for (0028,0008) 'Number of Frames' is invalid, assuming 1 frame\n",
      "WARNING:pydicom:A value of 'None' for (0028,0008) 'Number of Frames' is invalid, assuming 1 frame\n"
     ]
    },
    {
     "name": "stdout",
     "output_type": "stream",
     "text": [
      "NIRT_DS01_00025.dcm: chest (97.31%)\n",
      "\u001b[1m1/1\u001b[0m \u001b[32m━━━━━━━━━━━━━━━━━━━━\u001b[0m\u001b[37m\u001b[0m \u001b[1m0s\u001b[0m 176ms/step\n"
     ]
    },
    {
     "name": "stderr",
     "output_type": "stream",
     "text": [
      "WARNING:pydicom:A value of 'None' for (0028,0008) 'Number of Frames' is invalid, assuming 1 frame\n",
      "WARNING:pydicom:A value of 'None' for (0028,0008) 'Number of Frames' is invalid, assuming 1 frame\n"
     ]
    },
    {
     "name": "stdout",
     "output_type": "stream",
     "text": [
      "NIRT_DS01_00026.dcm: chest (97.95%)\n",
      "\u001b[1m1/1\u001b[0m \u001b[32m━━━━━━━━━━━━━━━━━━━━\u001b[0m\u001b[37m\u001b[0m \u001b[1m0s\u001b[0m 179ms/step\n"
     ]
    },
    {
     "name": "stderr",
     "output_type": "stream",
     "text": [
      "WARNING:pydicom:A value of 'None' for (0028,0008) 'Number of Frames' is invalid, assuming 1 frame\n",
      "WARNING:pydicom:A value of 'None' for (0028,0008) 'Number of Frames' is invalid, assuming 1 frame\n"
     ]
    },
    {
     "name": "stdout",
     "output_type": "stream",
     "text": [
      "NIRT_DS01_00027.dcm: chest (97.13%)\n",
      "\u001b[1m1/1\u001b[0m \u001b[32m━━━━━━━━━━━━━━━━━━━━\u001b[0m\u001b[37m\u001b[0m \u001b[1m0s\u001b[0m 181ms/step\n"
     ]
    },
    {
     "name": "stderr",
     "output_type": "stream",
     "text": [
      "WARNING:pydicom:A value of 'None' for (0028,0008) 'Number of Frames' is invalid, assuming 1 frame\n",
      "WARNING:pydicom:A value of 'None' for (0028,0008) 'Number of Frames' is invalid, assuming 1 frame\n"
     ]
    },
    {
     "name": "stdout",
     "output_type": "stream",
     "text": [
      "NIRT_DS01_00028.dcm: chest (99.82%)\n",
      "\u001b[1m1/1\u001b[0m \u001b[32m━━━━━━━━━━━━━━━━━━━━\u001b[0m\u001b[37m\u001b[0m \u001b[1m0s\u001b[0m 173ms/step\n"
     ]
    },
    {
     "name": "stderr",
     "output_type": "stream",
     "text": [
      "WARNING:pydicom:A value of 'None' for (0028,0008) 'Number of Frames' is invalid, assuming 1 frame\n",
      "WARNING:pydicom:A value of 'None' for (0028,0008) 'Number of Frames' is invalid, assuming 1 frame\n"
     ]
    },
    {
     "name": "stdout",
     "output_type": "stream",
     "text": [
      "NIRT_DS01_00029.dcm: chest (93.81%)\n",
      "\u001b[1m1/1\u001b[0m \u001b[32m━━━━━━━━━━━━━━━━━━━━\u001b[0m\u001b[37m\u001b[0m \u001b[1m0s\u001b[0m 175ms/step\n"
     ]
    },
    {
     "name": "stderr",
     "output_type": "stream",
     "text": [
      "WARNING:pydicom:A value of 'None' for (0028,0008) 'Number of Frames' is invalid, assuming 1 frame\n",
      "WARNING:pydicom:A value of 'None' for (0028,0008) 'Number of Frames' is invalid, assuming 1 frame\n"
     ]
    },
    {
     "name": "stdout",
     "output_type": "stream",
     "text": [
      "NIRT_DS01_00030.dcm: chest (99.34%)\n",
      "\u001b[1m1/1\u001b[0m \u001b[32m━━━━━━━━━━━━━━━━━━━━\u001b[0m\u001b[37m\u001b[0m \u001b[1m0s\u001b[0m 183ms/step\n"
     ]
    },
    {
     "name": "stderr",
     "output_type": "stream",
     "text": [
      "WARNING:pydicom:A value of 'None' for (0028,0008) 'Number of Frames' is invalid, assuming 1 frame\n",
      "WARNING:pydicom:A value of 'None' for (0028,0008) 'Number of Frames' is invalid, assuming 1 frame\n"
     ]
    },
    {
     "name": "stdout",
     "output_type": "stream",
     "text": [
      "NIRT_DS01_00031.dcm: chest (98.17%)\n",
      "\u001b[1m1/1\u001b[0m \u001b[32m━━━━━━━━━━━━━━━━━━━━\u001b[0m\u001b[37m\u001b[0m \u001b[1m0s\u001b[0m 189ms/step\n"
     ]
    },
    {
     "name": "stderr",
     "output_type": "stream",
     "text": [
      "WARNING:pydicom:A value of 'None' for (0028,0008) 'Number of Frames' is invalid, assuming 1 frame\n",
      "WARNING:pydicom:A value of 'None' for (0028,0008) 'Number of Frames' is invalid, assuming 1 frame\n"
     ]
    },
    {
     "name": "stdout",
     "output_type": "stream",
     "text": [
      "NIRT_DS01_00032.dcm: chest (98.80%)\n",
      "\u001b[1m1/1\u001b[0m \u001b[32m━━━━━━━━━━━━━━━━━━━━\u001b[0m\u001b[37m\u001b[0m \u001b[1m0s\u001b[0m 167ms/step\n"
     ]
    },
    {
     "name": "stderr",
     "output_type": "stream",
     "text": [
      "WARNING:pydicom:A value of 'None' for (0028,0008) 'Number of Frames' is invalid, assuming 1 frame\n",
      "WARNING:pydicom:A value of 'None' for (0028,0008) 'Number of Frames' is invalid, assuming 1 frame\n"
     ]
    },
    {
     "name": "stdout",
     "output_type": "stream",
     "text": [
      "NIRT_DS01_00033.dcm: chest (99.30%)\n",
      "\u001b[1m1/1\u001b[0m \u001b[32m━━━━━━━━━━━━━━━━━━━━\u001b[0m\u001b[37m\u001b[0m \u001b[1m0s\u001b[0m 191ms/step\n"
     ]
    },
    {
     "name": "stderr",
     "output_type": "stream",
     "text": [
      "WARNING:pydicom:A value of 'None' for (0028,0008) 'Number of Frames' is invalid, assuming 1 frame\n",
      "WARNING:pydicom:A value of 'None' for (0028,0008) 'Number of Frames' is invalid, assuming 1 frame\n"
     ]
    },
    {
     "name": "stdout",
     "output_type": "stream",
     "text": [
      "NIRT_DS01_00034.dcm: chest (66.31%)\n",
      "\u001b[1m1/1\u001b[0m \u001b[32m━━━━━━━━━━━━━━━━━━━━\u001b[0m\u001b[37m\u001b[0m \u001b[1m0s\u001b[0m 189ms/step\n"
     ]
    },
    {
     "name": "stderr",
     "output_type": "stream",
     "text": [
      "WARNING:pydicom:A value of 'None' for (0028,0008) 'Number of Frames' is invalid, assuming 1 frame\n",
      "WARNING:pydicom:A value of 'None' for (0028,0008) 'Number of Frames' is invalid, assuming 1 frame\n"
     ]
    },
    {
     "name": "stdout",
     "output_type": "stream",
     "text": [
      "NIRT_DS01_00035.dcm: chest (99.57%)\n",
      "\u001b[1m1/1\u001b[0m \u001b[32m━━━━━━━━━━━━━━━━━━━━\u001b[0m\u001b[37m\u001b[0m \u001b[1m0s\u001b[0m 182ms/step\n"
     ]
    },
    {
     "name": "stderr",
     "output_type": "stream",
     "text": [
      "WARNING:pydicom:A value of 'None' for (0028,0008) 'Number of Frames' is invalid, assuming 1 frame\n",
      "WARNING:pydicom:A value of 'None' for (0028,0008) 'Number of Frames' is invalid, assuming 1 frame\n"
     ]
    },
    {
     "name": "stdout",
     "output_type": "stream",
     "text": [
      "NIRT_DS01_00036.dcm: chest (98.63%)\n",
      "\u001b[1m1/1\u001b[0m \u001b[32m━━━━━━━━━━━━━━━━━━━━\u001b[0m\u001b[37m\u001b[0m \u001b[1m0s\u001b[0m 178ms/step\n"
     ]
    },
    {
     "name": "stderr",
     "output_type": "stream",
     "text": [
      "WARNING:pydicom:A value of 'None' for (0028,0008) 'Number of Frames' is invalid, assuming 1 frame\n",
      "WARNING:pydicom:A value of 'None' for (0028,0008) 'Number of Frames' is invalid, assuming 1 frame\n"
     ]
    },
    {
     "name": "stdout",
     "output_type": "stream",
     "text": [
      "NIRT_DS01_00037.dcm: chest (99.32%)\n",
      "\u001b[1m1/1\u001b[0m \u001b[32m━━━━━━━━━━━━━━━━━━━━\u001b[0m\u001b[37m\u001b[0m \u001b[1m0s\u001b[0m 178ms/step\n"
     ]
    },
    {
     "name": "stderr",
     "output_type": "stream",
     "text": [
      "WARNING:pydicom:A value of 'None' for (0028,0008) 'Number of Frames' is invalid, assuming 1 frame\n",
      "WARNING:pydicom:A value of 'None' for (0028,0008) 'Number of Frames' is invalid, assuming 1 frame\n"
     ]
    },
    {
     "name": "stdout",
     "output_type": "stream",
     "text": [
      "NIRT_DS01_00038.dcm: chest (94.91%)\n",
      "\u001b[1m1/1\u001b[0m \u001b[32m━━━━━━━━━━━━━━━━━━━━\u001b[0m\u001b[37m\u001b[0m \u001b[1m0s\u001b[0m 181ms/step\n"
     ]
    },
    {
     "name": "stderr",
     "output_type": "stream",
     "text": [
      "WARNING:pydicom:A value of 'None' for (0028,0008) 'Number of Frames' is invalid, assuming 1 frame\n",
      "WARNING:pydicom:A value of 'None' for (0028,0008) 'Number of Frames' is invalid, assuming 1 frame\n"
     ]
    },
    {
     "name": "stdout",
     "output_type": "stream",
     "text": [
      "NIRT_DS01_00039.dcm: chest (99.55%)\n",
      "\u001b[1m1/1\u001b[0m \u001b[32m━━━━━━━━━━━━━━━━━━━━\u001b[0m\u001b[37m\u001b[0m \u001b[1m0s\u001b[0m 182ms/step\n"
     ]
    },
    {
     "name": "stderr",
     "output_type": "stream",
     "text": [
      "WARNING:pydicom:A value of 'None' for (0028,0008) 'Number of Frames' is invalid, assuming 1 frame\n",
      "WARNING:pydicom:A value of 'None' for (0028,0008) 'Number of Frames' is invalid, assuming 1 frame\n"
     ]
    },
    {
     "name": "stdout",
     "output_type": "stream",
     "text": [
      "NIRT_DS01_00040.dcm: chest (98.76%)\n",
      "\u001b[1m1/1\u001b[0m \u001b[32m━━━━━━━━━━━━━━━━━━━━\u001b[0m\u001b[37m\u001b[0m \u001b[1m0s\u001b[0m 181ms/step\n"
     ]
    },
    {
     "name": "stderr",
     "output_type": "stream",
     "text": [
      "WARNING:pydicom:A value of 'None' for (0028,0008) 'Number of Frames' is invalid, assuming 1 frame\n",
      "WARNING:pydicom:A value of 'None' for (0028,0008) 'Number of Frames' is invalid, assuming 1 frame\n"
     ]
    },
    {
     "name": "stdout",
     "output_type": "stream",
     "text": [
      "NIRT_DS01_00041.dcm: others (78.17%)\n",
      "\u001b[1m1/1\u001b[0m \u001b[32m━━━━━━━━━━━━━━━━━━━━\u001b[0m\u001b[37m\u001b[0m \u001b[1m0s\u001b[0m 180ms/step\n"
     ]
    },
    {
     "name": "stderr",
     "output_type": "stream",
     "text": [
      "WARNING:pydicom:A value of 'None' for (0028,0008) 'Number of Frames' is invalid, assuming 1 frame\n",
      "WARNING:pydicom:A value of 'None' for (0028,0008) 'Number of Frames' is invalid, assuming 1 frame\n"
     ]
    },
    {
     "name": "stdout",
     "output_type": "stream",
     "text": [
      "NIRT_DS01_00042.dcm: chest (73.32%)\n",
      "\u001b[1m1/1\u001b[0m \u001b[32m━━━━━━━━━━━━━━━━━━━━\u001b[0m\u001b[37m\u001b[0m \u001b[1m0s\u001b[0m 181ms/step\n"
     ]
    },
    {
     "name": "stderr",
     "output_type": "stream",
     "text": [
      "WARNING:pydicom:A value of 'None' for (0028,0008) 'Number of Frames' is invalid, assuming 1 frame\n",
      "WARNING:pydicom:A value of 'None' for (0028,0008) 'Number of Frames' is invalid, assuming 1 frame\n"
     ]
    },
    {
     "name": "stdout",
     "output_type": "stream",
     "text": [
      "NIRT_DS01_00043.dcm: chest (99.11%)\n",
      "\u001b[1m1/1\u001b[0m \u001b[32m━━━━━━━━━━━━━━━━━━━━\u001b[0m\u001b[37m\u001b[0m \u001b[1m0s\u001b[0m 175ms/step\n"
     ]
    },
    {
     "name": "stderr",
     "output_type": "stream",
     "text": [
      "WARNING:pydicom:A value of 'None' for (0028,0008) 'Number of Frames' is invalid, assuming 1 frame\n",
      "WARNING:pydicom:A value of 'None' for (0028,0008) 'Number of Frames' is invalid, assuming 1 frame\n"
     ]
    },
    {
     "name": "stdout",
     "output_type": "stream",
     "text": [
      "NIRT_DS01_00044.dcm: chest (99.72%)\n",
      "\u001b[1m1/1\u001b[0m \u001b[32m━━━━━━━━━━━━━━━━━━━━\u001b[0m\u001b[37m\u001b[0m \u001b[1m0s\u001b[0m 175ms/step\n"
     ]
    },
    {
     "name": "stderr",
     "output_type": "stream",
     "text": [
      "WARNING:pydicom:A value of 'None' for (0028,0008) 'Number of Frames' is invalid, assuming 1 frame\n",
      "WARNING:pydicom:A value of 'None' for (0028,0008) 'Number of Frames' is invalid, assuming 1 frame\n"
     ]
    },
    {
     "name": "stdout",
     "output_type": "stream",
     "text": [
      "NIRT_DS01_00045.dcm: chest (99.77%)\n",
      "\u001b[1m1/1\u001b[0m \u001b[32m━━━━━━━━━━━━━━━━━━━━\u001b[0m\u001b[37m\u001b[0m \u001b[1m0s\u001b[0m 175ms/step\n"
     ]
    },
    {
     "name": "stderr",
     "output_type": "stream",
     "text": [
      "WARNING:pydicom:A value of 'None' for (0028,0008) 'Number of Frames' is invalid, assuming 1 frame\n",
      "WARNING:pydicom:A value of 'None' for (0028,0008) 'Number of Frames' is invalid, assuming 1 frame\n"
     ]
    },
    {
     "name": "stdout",
     "output_type": "stream",
     "text": [
      "NIRT_DS01_00046.dcm: chest (98.27%)\n",
      "\u001b[1m1/1\u001b[0m \u001b[32m━━━━━━━━━━━━━━━━━━━━\u001b[0m\u001b[37m\u001b[0m \u001b[1m0s\u001b[0m 190ms/step\n"
     ]
    },
    {
     "name": "stderr",
     "output_type": "stream",
     "text": [
      "WARNING:pydicom:A value of 'None' for (0028,0008) 'Number of Frames' is invalid, assuming 1 frame\n",
      "WARNING:pydicom:A value of 'None' for (0028,0008) 'Number of Frames' is invalid, assuming 1 frame\n"
     ]
    },
    {
     "name": "stdout",
     "output_type": "stream",
     "text": [
      "NIRT_DS01_00047.dcm: chest (99.04%)\n",
      "\u001b[1m1/1\u001b[0m \u001b[32m━━━━━━━━━━━━━━━━━━━━\u001b[0m\u001b[37m\u001b[0m \u001b[1m0s\u001b[0m 174ms/step\n"
     ]
    },
    {
     "name": "stderr",
     "output_type": "stream",
     "text": [
      "WARNING:pydicom:A value of 'None' for (0028,0008) 'Number of Frames' is invalid, assuming 1 frame\n",
      "WARNING:pydicom:A value of 'None' for (0028,0008) 'Number of Frames' is invalid, assuming 1 frame\n"
     ]
    },
    {
     "name": "stdout",
     "output_type": "stream",
     "text": [
      "NIRT_DS01_00048.dcm: chest (94.63%)\n",
      "\u001b[1m1/1\u001b[0m \u001b[32m━━━━━━━━━━━━━━━━━━━━\u001b[0m\u001b[37m\u001b[0m \u001b[1m0s\u001b[0m 179ms/step\n"
     ]
    },
    {
     "name": "stderr",
     "output_type": "stream",
     "text": [
      "WARNING:pydicom:A value of 'None' for (0028,0008) 'Number of Frames' is invalid, assuming 1 frame\n",
      "WARNING:pydicom:A value of 'None' for (0028,0008) 'Number of Frames' is invalid, assuming 1 frame\n"
     ]
    },
    {
     "name": "stdout",
     "output_type": "stream",
     "text": [
      "NIRT_DS01_00049.dcm: chest (99.47%)\n",
      "\u001b[1m1/1\u001b[0m \u001b[32m━━━━━━━━━━━━━━━━━━━━\u001b[0m\u001b[37m\u001b[0m \u001b[1m0s\u001b[0m 175ms/step\n"
     ]
    },
    {
     "name": "stderr",
     "output_type": "stream",
     "text": [
      "WARNING:pydicom:A value of 'None' for (0028,0008) 'Number of Frames' is invalid, assuming 1 frame\n",
      "WARNING:pydicom:A value of 'None' for (0028,0008) 'Number of Frames' is invalid, assuming 1 frame\n"
     ]
    },
    {
     "name": "stdout",
     "output_type": "stream",
     "text": [
      "NIRT_DS01_00050.dcm: chest (90.28%)\n",
      "\u001b[1m1/1\u001b[0m \u001b[32m━━━━━━━━━━━━━━━━━━━━\u001b[0m\u001b[37m\u001b[0m \u001b[1m0s\u001b[0m 185ms/step\n"
     ]
    },
    {
     "name": "stderr",
     "output_type": "stream",
     "text": [
      "WARNING:pydicom:A value of 'None' for (0028,0008) 'Number of Frames' is invalid, assuming 1 frame\n",
      "WARNING:pydicom:A value of 'None' for (0028,0008) 'Number of Frames' is invalid, assuming 1 frame\n"
     ]
    },
    {
     "name": "stdout",
     "output_type": "stream",
     "text": [
      "NIRT_DS01_00051.dcm: chest (99.78%)\n",
      "\u001b[1m1/1\u001b[0m \u001b[32m━━━━━━━━━━━━━━━━━━━━\u001b[0m\u001b[37m\u001b[0m \u001b[1m0s\u001b[0m 195ms/step\n"
     ]
    },
    {
     "name": "stderr",
     "output_type": "stream",
     "text": [
      "WARNING:pydicom:A value of 'None' for (0028,0008) 'Number of Frames' is invalid, assuming 1 frame\n",
      "WARNING:pydicom:A value of 'None' for (0028,0008) 'Number of Frames' is invalid, assuming 1 frame\n"
     ]
    },
    {
     "name": "stdout",
     "output_type": "stream",
     "text": [
      "NIRT_DS01_00052.dcm: chest (99.87%)\n",
      "\u001b[1m1/1\u001b[0m \u001b[32m━━━━━━━━━━━━━━━━━━━━\u001b[0m\u001b[37m\u001b[0m \u001b[1m0s\u001b[0m 176ms/step\n"
     ]
    },
    {
     "name": "stderr",
     "output_type": "stream",
     "text": [
      "WARNING:pydicom:A value of 'None' for (0028,0008) 'Number of Frames' is invalid, assuming 1 frame\n",
      "WARNING:pydicom:A value of 'None' for (0028,0008) 'Number of Frames' is invalid, assuming 1 frame\n"
     ]
    },
    {
     "name": "stdout",
     "output_type": "stream",
     "text": [
      "NIRT_DS01_00053.dcm: chest (99.64%)\n",
      "\u001b[1m1/1\u001b[0m \u001b[32m━━━━━━━━━━━━━━━━━━━━\u001b[0m\u001b[37m\u001b[0m \u001b[1m0s\u001b[0m 183ms/step\n"
     ]
    },
    {
     "name": "stderr",
     "output_type": "stream",
     "text": [
      "WARNING:pydicom:A value of 'None' for (0028,0008) 'Number of Frames' is invalid, assuming 1 frame\n",
      "WARNING:pydicom:A value of 'None' for (0028,0008) 'Number of Frames' is invalid, assuming 1 frame\n"
     ]
    },
    {
     "name": "stdout",
     "output_type": "stream",
     "text": [
      "NIRT_DS01_00054.dcm: chest (99.80%)\n",
      "\u001b[1m1/1\u001b[0m \u001b[32m━━━━━━━━━━━━━━━━━━━━\u001b[0m\u001b[37m\u001b[0m \u001b[1m0s\u001b[0m 175ms/step\n"
     ]
    },
    {
     "name": "stderr",
     "output_type": "stream",
     "text": [
      "WARNING:pydicom:A value of 'None' for (0028,0008) 'Number of Frames' is invalid, assuming 1 frame\n",
      "WARNING:pydicom:A value of 'None' for (0028,0008) 'Number of Frames' is invalid, assuming 1 frame\n"
     ]
    },
    {
     "name": "stdout",
     "output_type": "stream",
     "text": [
      "NIRT_DS01_00055.dcm: chest (99.85%)\n",
      "\u001b[1m1/1\u001b[0m \u001b[32m━━━━━━━━━━━━━━━━━━━━\u001b[0m\u001b[37m\u001b[0m \u001b[1m0s\u001b[0m 185ms/step\n"
     ]
    },
    {
     "name": "stderr",
     "output_type": "stream",
     "text": [
      "WARNING:pydicom:A value of 'None' for (0028,0008) 'Number of Frames' is invalid, assuming 1 frame\n",
      "WARNING:pydicom:A value of 'None' for (0028,0008) 'Number of Frames' is invalid, assuming 1 frame\n"
     ]
    },
    {
     "name": "stdout",
     "output_type": "stream",
     "text": [
      "NIRT_DS01_00056.dcm: chest (99.88%)\n",
      "\u001b[1m1/1\u001b[0m \u001b[32m━━━━━━━━━━━━━━━━━━━━\u001b[0m\u001b[37m\u001b[0m \u001b[1m0s\u001b[0m 180ms/step\n"
     ]
    },
    {
     "name": "stderr",
     "output_type": "stream",
     "text": [
      "WARNING:pydicom:A value of 'None' for (0028,0008) 'Number of Frames' is invalid, assuming 1 frame\n",
      "WARNING:pydicom:A value of 'None' for (0028,0008) 'Number of Frames' is invalid, assuming 1 frame\n"
     ]
    },
    {
     "name": "stdout",
     "output_type": "stream",
     "text": [
      "NIRT_DS01_00057.dcm: chest (98.86%)\n",
      "\u001b[1m1/1\u001b[0m \u001b[32m━━━━━━━━━━━━━━━━━━━━\u001b[0m\u001b[37m\u001b[0m \u001b[1m0s\u001b[0m 187ms/step\n"
     ]
    },
    {
     "name": "stderr",
     "output_type": "stream",
     "text": [
      "WARNING:pydicom:A value of 'None' for (0028,0008) 'Number of Frames' is invalid, assuming 1 frame\n",
      "WARNING:pydicom:A value of 'None' for (0028,0008) 'Number of Frames' is invalid, assuming 1 frame\n"
     ]
    },
    {
     "name": "stdout",
     "output_type": "stream",
     "text": [
      "NIRT_DS01_00058.dcm: chest (99.40%)\n",
      "\u001b[1m1/1\u001b[0m \u001b[32m━━━━━━━━━━━━━━━━━━━━\u001b[0m\u001b[37m\u001b[0m \u001b[1m0s\u001b[0m 188ms/step\n"
     ]
    },
    {
     "name": "stderr",
     "output_type": "stream",
     "text": [
      "WARNING:pydicom:A value of 'None' for (0028,0008) 'Number of Frames' is invalid, assuming 1 frame\n",
      "WARNING:pydicom:A value of 'None' for (0028,0008) 'Number of Frames' is invalid, assuming 1 frame\n"
     ]
    },
    {
     "name": "stdout",
     "output_type": "stream",
     "text": [
      "NIRT_DS01_00059.dcm: chest (99.90%)\n",
      "\u001b[1m1/1\u001b[0m \u001b[32m━━━━━━━━━━━━━━━━━━━━\u001b[0m\u001b[37m\u001b[0m \u001b[1m0s\u001b[0m 188ms/step\n"
     ]
    },
    {
     "name": "stderr",
     "output_type": "stream",
     "text": [
      "WARNING:pydicom:A value of 'None' for (0028,0008) 'Number of Frames' is invalid, assuming 1 frame\n",
      "WARNING:pydicom:A value of 'None' for (0028,0008) 'Number of Frames' is invalid, assuming 1 frame\n"
     ]
    },
    {
     "name": "stdout",
     "output_type": "stream",
     "text": [
      "NIRT_DS01_00060.dcm: chest (68.00%)\n",
      "\u001b[1m1/1\u001b[0m \u001b[32m━━━━━━━━━━━━━━━━━━━━\u001b[0m\u001b[37m\u001b[0m \u001b[1m0s\u001b[0m 189ms/step\n"
     ]
    },
    {
     "name": "stderr",
     "output_type": "stream",
     "text": [
      "WARNING:pydicom:A value of 'None' for (0028,0008) 'Number of Frames' is invalid, assuming 1 frame\n",
      "WARNING:pydicom:A value of 'None' for (0028,0008) 'Number of Frames' is invalid, assuming 1 frame\n"
     ]
    },
    {
     "name": "stdout",
     "output_type": "stream",
     "text": [
      "NIRT_DS01_00061.dcm: chest (92.57%)\n",
      "\u001b[1m1/1\u001b[0m \u001b[32m━━━━━━━━━━━━━━━━━━━━\u001b[0m\u001b[37m\u001b[0m \u001b[1m0s\u001b[0m 184ms/step\n"
     ]
    },
    {
     "name": "stderr",
     "output_type": "stream",
     "text": [
      "WARNING:pydicom:A value of 'None' for (0028,0008) 'Number of Frames' is invalid, assuming 1 frame\n",
      "WARNING:pydicom:A value of 'None' for (0028,0008) 'Number of Frames' is invalid, assuming 1 frame\n"
     ]
    },
    {
     "name": "stdout",
     "output_type": "stream",
     "text": [
      "NIRT_DS01_00062.dcm: chest (99.73%)\n",
      "\u001b[1m1/1\u001b[0m \u001b[32m━━━━━━━━━━━━━━━━━━━━\u001b[0m\u001b[37m\u001b[0m \u001b[1m0s\u001b[0m 199ms/step\n"
     ]
    },
    {
     "name": "stderr",
     "output_type": "stream",
     "text": [
      "WARNING:pydicom:A value of 'None' for (0028,0008) 'Number of Frames' is invalid, assuming 1 frame\n",
      "WARNING:pydicom:A value of 'None' for (0028,0008) 'Number of Frames' is invalid, assuming 1 frame\n"
     ]
    },
    {
     "name": "stdout",
     "output_type": "stream",
     "text": [
      "NIRT_DS01_00063.dcm: chest (99.64%)\n",
      "\u001b[1m1/1\u001b[0m \u001b[32m━━━━━━━━━━━━━━━━━━━━\u001b[0m\u001b[37m\u001b[0m \u001b[1m0s\u001b[0m 184ms/step\n"
     ]
    },
    {
     "name": "stderr",
     "output_type": "stream",
     "text": [
      "WARNING:pydicom:A value of 'None' for (0028,0008) 'Number of Frames' is invalid, assuming 1 frame\n",
      "WARNING:pydicom:A value of 'None' for (0028,0008) 'Number of Frames' is invalid, assuming 1 frame\n"
     ]
    },
    {
     "name": "stdout",
     "output_type": "stream",
     "text": [
      "NIRT_DS01_00064.dcm: chest (99.78%)\n",
      "\u001b[1m1/1\u001b[0m \u001b[32m━━━━━━━━━━━━━━━━━━━━\u001b[0m\u001b[37m\u001b[0m \u001b[1m0s\u001b[0m 183ms/step\n"
     ]
    },
    {
     "name": "stderr",
     "output_type": "stream",
     "text": [
      "WARNING:pydicom:A value of 'None' for (0028,0008) 'Number of Frames' is invalid, assuming 1 frame\n",
      "WARNING:pydicom:A value of 'None' for (0028,0008) 'Number of Frames' is invalid, assuming 1 frame\n"
     ]
    },
    {
     "name": "stdout",
     "output_type": "stream",
     "text": [
      "NIRT_DS01_00065.dcm: chest (98.95%)\n",
      "\u001b[1m1/1\u001b[0m \u001b[32m━━━━━━━━━━━━━━━━━━━━\u001b[0m\u001b[37m\u001b[0m \u001b[1m0s\u001b[0m 184ms/step\n"
     ]
    },
    {
     "name": "stderr",
     "output_type": "stream",
     "text": [
      "WARNING:pydicom:A value of 'None' for (0028,0008) 'Number of Frames' is invalid, assuming 1 frame\n",
      "WARNING:pydicom:A value of 'None' for (0028,0008) 'Number of Frames' is invalid, assuming 1 frame\n"
     ]
    },
    {
     "name": "stdout",
     "output_type": "stream",
     "text": [
      "NIRT_DS01_00066.dcm: chest (99.92%)\n",
      "\u001b[1m1/1\u001b[0m \u001b[32m━━━━━━━━━━━━━━━━━━━━\u001b[0m\u001b[37m\u001b[0m \u001b[1m0s\u001b[0m 183ms/step\n"
     ]
    },
    {
     "name": "stderr",
     "output_type": "stream",
     "text": [
      "WARNING:pydicom:A value of 'None' for (0028,0008) 'Number of Frames' is invalid, assuming 1 frame\n",
      "WARNING:pydicom:A value of 'None' for (0028,0008) 'Number of Frames' is invalid, assuming 1 frame\n"
     ]
    },
    {
     "name": "stdout",
     "output_type": "stream",
     "text": [
      "NIRT_DS01_00067.dcm: chest (96.01%)\n",
      "\u001b[1m1/1\u001b[0m \u001b[32m━━━━━━━━━━━━━━━━━━━━\u001b[0m\u001b[37m\u001b[0m \u001b[1m0s\u001b[0m 183ms/step\n"
     ]
    },
    {
     "name": "stderr",
     "output_type": "stream",
     "text": [
      "WARNING:pydicom:A value of 'None' for (0028,0008) 'Number of Frames' is invalid, assuming 1 frame\n",
      "WARNING:pydicom:A value of 'None' for (0028,0008) 'Number of Frames' is invalid, assuming 1 frame\n"
     ]
    },
    {
     "name": "stdout",
     "output_type": "stream",
     "text": [
      "NIRT_DS01_00068.dcm: chest (88.83%)\n",
      "\u001b[1m1/1\u001b[0m \u001b[32m━━━━━━━━━━━━━━━━━━━━\u001b[0m\u001b[37m\u001b[0m \u001b[1m0s\u001b[0m 183ms/step\n"
     ]
    },
    {
     "name": "stderr",
     "output_type": "stream",
     "text": [
      "WARNING:pydicom:A value of 'None' for (0028,0008) 'Number of Frames' is invalid, assuming 1 frame\n",
      "WARNING:pydicom:A value of 'None' for (0028,0008) 'Number of Frames' is invalid, assuming 1 frame\n"
     ]
    },
    {
     "name": "stdout",
     "output_type": "stream",
     "text": [
      "NIRT_DS01_00069.dcm: chest (95.58%)\n",
      "\u001b[1m1/1\u001b[0m \u001b[32m━━━━━━━━━━━━━━━━━━━━\u001b[0m\u001b[37m\u001b[0m \u001b[1m0s\u001b[0m 181ms/step\n"
     ]
    },
    {
     "name": "stderr",
     "output_type": "stream",
     "text": [
      "WARNING:pydicom:A value of 'None' for (0028,0008) 'Number of Frames' is invalid, assuming 1 frame\n",
      "WARNING:pydicom:A value of 'None' for (0028,0008) 'Number of Frames' is invalid, assuming 1 frame\n"
     ]
    },
    {
     "name": "stdout",
     "output_type": "stream",
     "text": [
      "NIRT_DS01_00070.dcm: chest (97.35%)\n",
      "\u001b[1m1/1\u001b[0m \u001b[32m━━━━━━━━━━━━━━━━━━━━\u001b[0m\u001b[37m\u001b[0m \u001b[1m0s\u001b[0m 181ms/step\n"
     ]
    },
    {
     "name": "stderr",
     "output_type": "stream",
     "text": [
      "WARNING:pydicom:A value of 'None' for (0028,0008) 'Number of Frames' is invalid, assuming 1 frame\n",
      "WARNING:pydicom:A value of 'None' for (0028,0008) 'Number of Frames' is invalid, assuming 1 frame\n"
     ]
    },
    {
     "name": "stdout",
     "output_type": "stream",
     "text": [
      "NIRT_DS01_00071.dcm: chest (99.05%)\n",
      "\u001b[1m1/1\u001b[0m \u001b[32m━━━━━━━━━━━━━━━━━━━━\u001b[0m\u001b[37m\u001b[0m \u001b[1m0s\u001b[0m 177ms/step\n"
     ]
    },
    {
     "name": "stderr",
     "output_type": "stream",
     "text": [
      "WARNING:pydicom:A value of 'None' for (0028,0008) 'Number of Frames' is invalid, assuming 1 frame\n",
      "WARNING:pydicom:A value of 'None' for (0028,0008) 'Number of Frames' is invalid, assuming 1 frame\n"
     ]
    },
    {
     "name": "stdout",
     "output_type": "stream",
     "text": [
      "NIRT_DS01_00072.dcm: chest (98.88%)\n",
      "\u001b[1m1/1\u001b[0m \u001b[32m━━━━━━━━━━━━━━━━━━━━\u001b[0m\u001b[37m\u001b[0m \u001b[1m0s\u001b[0m 180ms/step\n"
     ]
    },
    {
     "name": "stderr",
     "output_type": "stream",
     "text": [
      "WARNING:pydicom:A value of 'None' for (0028,0008) 'Number of Frames' is invalid, assuming 1 frame\n",
      "WARNING:pydicom:A value of 'None' for (0028,0008) 'Number of Frames' is invalid, assuming 1 frame\n"
     ]
    },
    {
     "name": "stdout",
     "output_type": "stream",
     "text": [
      "NIRT_DS01_00073.dcm: chest (89.81%)\n",
      "\u001b[1m1/1\u001b[0m \u001b[32m━━━━━━━━━━━━━━━━━━━━\u001b[0m\u001b[37m\u001b[0m \u001b[1m0s\u001b[0m 178ms/step\n"
     ]
    },
    {
     "name": "stderr",
     "output_type": "stream",
     "text": [
      "WARNING:pydicom:A value of 'None' for (0028,0008) 'Number of Frames' is invalid, assuming 1 frame\n",
      "WARNING:pydicom:A value of 'None' for (0028,0008) 'Number of Frames' is invalid, assuming 1 frame\n"
     ]
    },
    {
     "name": "stdout",
     "output_type": "stream",
     "text": [
      "NIRT_DS01_00074.dcm: chest (95.98%)\n",
      "\u001b[1m1/1\u001b[0m \u001b[32m━━━━━━━━━━━━━━━━━━━━\u001b[0m\u001b[37m\u001b[0m \u001b[1m0s\u001b[0m 178ms/step\n"
     ]
    },
    {
     "name": "stderr",
     "output_type": "stream",
     "text": [
      "WARNING:pydicom:A value of 'None' for (0028,0008) 'Number of Frames' is invalid, assuming 1 frame\n",
      "WARNING:pydicom:A value of 'None' for (0028,0008) 'Number of Frames' is invalid, assuming 1 frame\n"
     ]
    },
    {
     "name": "stdout",
     "output_type": "stream",
     "text": [
      "NIRT_DS01_00075.dcm: chest (96.15%)\n",
      "\u001b[1m1/1\u001b[0m \u001b[32m━━━━━━━━━━━━━━━━━━━━\u001b[0m\u001b[37m\u001b[0m \u001b[1m0s\u001b[0m 184ms/step\n"
     ]
    },
    {
     "name": "stderr",
     "output_type": "stream",
     "text": [
      "WARNING:pydicom:A value of 'None' for (0028,0008) 'Number of Frames' is invalid, assuming 1 frame\n",
      "WARNING:pydicom:A value of 'None' for (0028,0008) 'Number of Frames' is invalid, assuming 1 frame\n"
     ]
    },
    {
     "name": "stdout",
     "output_type": "stream",
     "text": [
      "NIRT_DS01_00076.dcm: chest (85.14%)\n",
      "\u001b[1m1/1\u001b[0m \u001b[32m━━━━━━━━━━━━━━━━━━━━\u001b[0m\u001b[37m\u001b[0m \u001b[1m0s\u001b[0m 202ms/step\n"
     ]
    },
    {
     "name": "stderr",
     "output_type": "stream",
     "text": [
      "WARNING:pydicom:A value of 'None' for (0028,0008) 'Number of Frames' is invalid, assuming 1 frame\n",
      "WARNING:pydicom:A value of 'None' for (0028,0008) 'Number of Frames' is invalid, assuming 1 frame\n"
     ]
    },
    {
     "name": "stdout",
     "output_type": "stream",
     "text": [
      "NIRT_DS01_00077.dcm: chest (99.55%)\n",
      "\u001b[1m1/1\u001b[0m \u001b[32m━━━━━━━━━━━━━━━━━━━━\u001b[0m\u001b[37m\u001b[0m \u001b[1m0s\u001b[0m 187ms/step\n"
     ]
    },
    {
     "name": "stderr",
     "output_type": "stream",
     "text": [
      "WARNING:pydicom:A value of 'None' for (0028,0008) 'Number of Frames' is invalid, assuming 1 frame\n",
      "WARNING:pydicom:A value of 'None' for (0028,0008) 'Number of Frames' is invalid, assuming 1 frame\n"
     ]
    },
    {
     "name": "stdout",
     "output_type": "stream",
     "text": [
      "NIRT_DS01_00078.dcm: chest (86.01%)\n",
      "\u001b[1m1/1\u001b[0m \u001b[32m━━━━━━━━━━━━━━━━━━━━\u001b[0m\u001b[37m\u001b[0m \u001b[1m0s\u001b[0m 176ms/step\n"
     ]
    },
    {
     "name": "stderr",
     "output_type": "stream",
     "text": [
      "WARNING:pydicom:A value of 'None' for (0028,0008) 'Number of Frames' is invalid, assuming 1 frame\n",
      "WARNING:pydicom:A value of 'None' for (0028,0008) 'Number of Frames' is invalid, assuming 1 frame\n"
     ]
    },
    {
     "name": "stdout",
     "output_type": "stream",
     "text": [
      "NIRT_DS01_00079.dcm: chest (99.39%)\n",
      "\u001b[1m1/1\u001b[0m \u001b[32m━━━━━━━━━━━━━━━━━━━━\u001b[0m\u001b[37m\u001b[0m \u001b[1m0s\u001b[0m 169ms/step\n"
     ]
    },
    {
     "name": "stderr",
     "output_type": "stream",
     "text": [
      "WARNING:pydicom:A value of 'None' for (0028,0008) 'Number of Frames' is invalid, assuming 1 frame\n",
      "WARNING:pydicom:A value of 'None' for (0028,0008) 'Number of Frames' is invalid, assuming 1 frame\n"
     ]
    },
    {
     "name": "stdout",
     "output_type": "stream",
     "text": [
      "NIRT_DS01_00080.dcm: chest (98.71%)\n",
      "\u001b[1m1/1\u001b[0m \u001b[32m━━━━━━━━━━━━━━━━━━━━\u001b[0m\u001b[37m\u001b[0m \u001b[1m0s\u001b[0m 179ms/step\n"
     ]
    },
    {
     "name": "stderr",
     "output_type": "stream",
     "text": [
      "WARNING:pydicom:A value of 'None' for (0028,0008) 'Number of Frames' is invalid, assuming 1 frame\n",
      "WARNING:pydicom:A value of 'None' for (0028,0008) 'Number of Frames' is invalid, assuming 1 frame\n"
     ]
    },
    {
     "name": "stdout",
     "output_type": "stream",
     "text": [
      "NIRT_DS01_00081.dcm: chest (99.94%)\n",
      "\u001b[1m1/1\u001b[0m \u001b[32m━━━━━━━━━━━━━━━━━━━━\u001b[0m\u001b[37m\u001b[0m \u001b[1m0s\u001b[0m 178ms/step\n"
     ]
    },
    {
     "name": "stderr",
     "output_type": "stream",
     "text": [
      "WARNING:pydicom:A value of 'None' for (0028,0008) 'Number of Frames' is invalid, assuming 1 frame\n",
      "WARNING:pydicom:A value of 'None' for (0028,0008) 'Number of Frames' is invalid, assuming 1 frame\n"
     ]
    },
    {
     "name": "stdout",
     "output_type": "stream",
     "text": [
      "NIRT_DS01_00082.dcm: chest (62.68%)\n",
      "\u001b[1m1/1\u001b[0m \u001b[32m━━━━━━━━━━━━━━━━━━━━\u001b[0m\u001b[37m\u001b[0m \u001b[1m0s\u001b[0m 180ms/step\n"
     ]
    },
    {
     "name": "stderr",
     "output_type": "stream",
     "text": [
      "WARNING:pydicom:A value of 'None' for (0028,0008) 'Number of Frames' is invalid, assuming 1 frame\n",
      "WARNING:pydicom:A value of 'None' for (0028,0008) 'Number of Frames' is invalid, assuming 1 frame\n"
     ]
    },
    {
     "name": "stdout",
     "output_type": "stream",
     "text": [
      "NIRT_DS01_00083.dcm: chest (99.97%)\n",
      "\u001b[1m1/1\u001b[0m \u001b[32m━━━━━━━━━━━━━━━━━━━━\u001b[0m\u001b[37m\u001b[0m \u001b[1m0s\u001b[0m 192ms/step\n"
     ]
    },
    {
     "name": "stderr",
     "output_type": "stream",
     "text": [
      "WARNING:pydicom:A value of 'None' for (0028,0008) 'Number of Frames' is invalid, assuming 1 frame\n",
      "WARNING:pydicom:A value of 'None' for (0028,0008) 'Number of Frames' is invalid, assuming 1 frame\n"
     ]
    },
    {
     "name": "stdout",
     "output_type": "stream",
     "text": [
      "NIRT_DS01_00084.dcm: chest (99.62%)\n",
      "\u001b[1m1/1\u001b[0m \u001b[32m━━━━━━━━━━━━━━━━━━━━\u001b[0m\u001b[37m\u001b[0m \u001b[1m0s\u001b[0m 179ms/step\n"
     ]
    },
    {
     "name": "stderr",
     "output_type": "stream",
     "text": [
      "WARNING:pydicom:A value of 'None' for (0028,0008) 'Number of Frames' is invalid, assuming 1 frame\n",
      "WARNING:pydicom:A value of 'None' for (0028,0008) 'Number of Frames' is invalid, assuming 1 frame\n"
     ]
    },
    {
     "name": "stdout",
     "output_type": "stream",
     "text": [
      "NIRT_DS01_00085.dcm: chest (98.97%)\n",
      "\u001b[1m1/1\u001b[0m \u001b[32m━━━━━━━━━━━━━━━━━━━━\u001b[0m\u001b[37m\u001b[0m \u001b[1m0s\u001b[0m 180ms/step\n"
     ]
    },
    {
     "name": "stderr",
     "output_type": "stream",
     "text": [
      "WARNING:pydicom:A value of 'None' for (0028,0008) 'Number of Frames' is invalid, assuming 1 frame\n",
      "WARNING:pydicom:A value of 'None' for (0028,0008) 'Number of Frames' is invalid, assuming 1 frame\n"
     ]
    },
    {
     "name": "stdout",
     "output_type": "stream",
     "text": [
      "NIRT_DS01_00086.dcm: chest (97.67%)\n",
      "\u001b[1m1/1\u001b[0m \u001b[32m━━━━━━━━━━━━━━━━━━━━\u001b[0m\u001b[37m\u001b[0m \u001b[1m0s\u001b[0m 172ms/step\n"
     ]
    },
    {
     "name": "stderr",
     "output_type": "stream",
     "text": [
      "WARNING:pydicom:A value of 'None' for (0028,0008) 'Number of Frames' is invalid, assuming 1 frame\n",
      "WARNING:pydicom:A value of 'None' for (0028,0008) 'Number of Frames' is invalid, assuming 1 frame\n"
     ]
    },
    {
     "name": "stdout",
     "output_type": "stream",
     "text": [
      "NIRT_DS01_00087.dcm: chest (99.72%)\n",
      "\u001b[1m1/1\u001b[0m \u001b[32m━━━━━━━━━━━━━━━━━━━━\u001b[0m\u001b[37m\u001b[0m \u001b[1m0s\u001b[0m 180ms/step\n"
     ]
    },
    {
     "name": "stderr",
     "output_type": "stream",
     "text": [
      "WARNING:pydicom:A value of 'None' for (0028,0008) 'Number of Frames' is invalid, assuming 1 frame\n",
      "WARNING:pydicom:A value of 'None' for (0028,0008) 'Number of Frames' is invalid, assuming 1 frame\n"
     ]
    },
    {
     "name": "stdout",
     "output_type": "stream",
     "text": [
      "NIRT_DS01_00088.dcm: chest (99.82%)\n",
      "\u001b[1m1/1\u001b[0m \u001b[32m━━━━━━━━━━━━━━━━━━━━\u001b[0m\u001b[37m\u001b[0m \u001b[1m0s\u001b[0m 177ms/step\n"
     ]
    },
    {
     "name": "stderr",
     "output_type": "stream",
     "text": [
      "WARNING:pydicom:A value of 'None' for (0028,0008) 'Number of Frames' is invalid, assuming 1 frame\n",
      "WARNING:pydicom:A value of 'None' for (0028,0008) 'Number of Frames' is invalid, assuming 1 frame\n"
     ]
    },
    {
     "name": "stdout",
     "output_type": "stream",
     "text": [
      "NIRT_DS01_00089.dcm: chest (66.05%)\n",
      "\u001b[1m1/1\u001b[0m \u001b[32m━━━━━━━━━━━━━━━━━━━━\u001b[0m\u001b[37m\u001b[0m \u001b[1m0s\u001b[0m 175ms/step\n"
     ]
    },
    {
     "name": "stderr",
     "output_type": "stream",
     "text": [
      "WARNING:pydicom:A value of 'None' for (0028,0008) 'Number of Frames' is invalid, assuming 1 frame\n",
      "WARNING:pydicom:A value of 'None' for (0028,0008) 'Number of Frames' is invalid, assuming 1 frame\n"
     ]
    },
    {
     "name": "stdout",
     "output_type": "stream",
     "text": [
      "NIRT_DS01_00090.dcm: chest (99.61%)\n",
      "\u001b[1m1/1\u001b[0m \u001b[32m━━━━━━━━━━━━━━━━━━━━\u001b[0m\u001b[37m\u001b[0m \u001b[1m0s\u001b[0m 177ms/step\n"
     ]
    },
    {
     "name": "stderr",
     "output_type": "stream",
     "text": [
      "WARNING:pydicom:A value of 'None' for (0028,0008) 'Number of Frames' is invalid, assuming 1 frame\n",
      "WARNING:pydicom:A value of 'None' for (0028,0008) 'Number of Frames' is invalid, assuming 1 frame\n"
     ]
    },
    {
     "name": "stdout",
     "output_type": "stream",
     "text": [
      "NIRT_DS01_00091.dcm: chest (99.10%)\n",
      "\u001b[1m1/1\u001b[0m \u001b[32m━━━━━━━━━━━━━━━━━━━━\u001b[0m\u001b[37m\u001b[0m \u001b[1m0s\u001b[0m 178ms/step\n"
     ]
    },
    {
     "name": "stderr",
     "output_type": "stream",
     "text": [
      "WARNING:pydicom:A value of 'None' for (0028,0008) 'Number of Frames' is invalid, assuming 1 frame\n",
      "WARNING:pydicom:A value of 'None' for (0028,0008) 'Number of Frames' is invalid, assuming 1 frame\n"
     ]
    },
    {
     "name": "stdout",
     "output_type": "stream",
     "text": [
      "NIRT_DS01_00092.dcm: chest (99.75%)\n",
      "\u001b[1m1/1\u001b[0m \u001b[32m━━━━━━━━━━━━━━━━━━━━\u001b[0m\u001b[37m\u001b[0m \u001b[1m0s\u001b[0m 176ms/step\n"
     ]
    },
    {
     "name": "stderr",
     "output_type": "stream",
     "text": [
      "WARNING:pydicom:A value of 'None' for (0028,0008) 'Number of Frames' is invalid, assuming 1 frame\n",
      "WARNING:pydicom:A value of 'None' for (0028,0008) 'Number of Frames' is invalid, assuming 1 frame\n"
     ]
    },
    {
     "name": "stdout",
     "output_type": "stream",
     "text": [
      "NIRT_DS01_00093.dcm: chest (99.72%)\n",
      "\u001b[1m1/1\u001b[0m \u001b[32m━━━━━━━━━━━━━━━━━━━━\u001b[0m\u001b[37m\u001b[0m \u001b[1m0s\u001b[0m 179ms/step\n"
     ]
    },
    {
     "name": "stderr",
     "output_type": "stream",
     "text": [
      "WARNING:pydicom:A value of 'None' for (0028,0008) 'Number of Frames' is invalid, assuming 1 frame\n",
      "WARNING:pydicom:A value of 'None' for (0028,0008) 'Number of Frames' is invalid, assuming 1 frame\n"
     ]
    },
    {
     "name": "stdout",
     "output_type": "stream",
     "text": [
      "NIRT_DS01_00094.dcm: chest (99.47%)\n",
      "\u001b[1m1/1\u001b[0m \u001b[32m━━━━━━━━━━━━━━━━━━━━\u001b[0m\u001b[37m\u001b[0m \u001b[1m0s\u001b[0m 178ms/step\n"
     ]
    },
    {
     "name": "stderr",
     "output_type": "stream",
     "text": [
      "WARNING:pydicom:A value of 'None' for (0028,0008) 'Number of Frames' is invalid, assuming 1 frame\n",
      "WARNING:pydicom:A value of 'None' for (0028,0008) 'Number of Frames' is invalid, assuming 1 frame\n"
     ]
    },
    {
     "name": "stdout",
     "output_type": "stream",
     "text": [
      "NIRT_DS01_00095.dcm: chest (99.82%)\n",
      "\u001b[1m1/1\u001b[0m \u001b[32m━━━━━━━━━━━━━━━━━━━━\u001b[0m\u001b[37m\u001b[0m \u001b[1m0s\u001b[0m 180ms/step\n"
     ]
    },
    {
     "name": "stderr",
     "output_type": "stream",
     "text": [
      "WARNING:pydicom:A value of 'None' for (0028,0008) 'Number of Frames' is invalid, assuming 1 frame\n",
      "WARNING:pydicom:A value of 'None' for (0028,0008) 'Number of Frames' is invalid, assuming 1 frame\n"
     ]
    },
    {
     "name": "stdout",
     "output_type": "stream",
     "text": [
      "NIRT_DS01_00096.dcm: chest (99.12%)\n",
      "\u001b[1m1/1\u001b[0m \u001b[32m━━━━━━━━━━━━━━━━━━━━\u001b[0m\u001b[37m\u001b[0m \u001b[1m0s\u001b[0m 177ms/step\n"
     ]
    },
    {
     "name": "stderr",
     "output_type": "stream",
     "text": [
      "WARNING:pydicom:A value of 'None' for (0028,0008) 'Number of Frames' is invalid, assuming 1 frame\n",
      "WARNING:pydicom:A value of 'None' for (0028,0008) 'Number of Frames' is invalid, assuming 1 frame\n"
     ]
    },
    {
     "name": "stdout",
     "output_type": "stream",
     "text": [
      "NIRT_DS01_00097.dcm: chest (99.78%)\n",
      "\u001b[1m1/1\u001b[0m \u001b[32m━━━━━━━━━━━━━━━━━━━━\u001b[0m\u001b[37m\u001b[0m \u001b[1m0s\u001b[0m 175ms/step\n"
     ]
    },
    {
     "name": "stderr",
     "output_type": "stream",
     "text": [
      "WARNING:pydicom:A value of 'None' for (0028,0008) 'Number of Frames' is invalid, assuming 1 frame\n",
      "WARNING:pydicom:A value of 'None' for (0028,0008) 'Number of Frames' is invalid, assuming 1 frame\n"
     ]
    },
    {
     "name": "stdout",
     "output_type": "stream",
     "text": [
      "NIRT_DS01_00098.dcm: chest (96.94%)\n",
      "\u001b[1m1/1\u001b[0m \u001b[32m━━━━━━━━━━━━━━━━━━━━\u001b[0m\u001b[37m\u001b[0m \u001b[1m0s\u001b[0m 178ms/step\n"
     ]
    },
    {
     "name": "stderr",
     "output_type": "stream",
     "text": [
      "WARNING:pydicom:A value of 'None' for (0028,0008) 'Number of Frames' is invalid, assuming 1 frame\n",
      "WARNING:pydicom:A value of 'None' for (0028,0008) 'Number of Frames' is invalid, assuming 1 frame\n"
     ]
    },
    {
     "name": "stdout",
     "output_type": "stream",
     "text": [
      "NIRT_DS01_00099.dcm: chest (99.87%)\n",
      "\u001b[1m1/1\u001b[0m \u001b[32m━━━━━━━━━━━━━━━━━━━━\u001b[0m\u001b[37m\u001b[0m \u001b[1m0s\u001b[0m 187ms/step\n"
     ]
    },
    {
     "name": "stderr",
     "output_type": "stream",
     "text": [
      "WARNING:pydicom:A value of 'None' for (0028,0008) 'Number of Frames' is invalid, assuming 1 frame\n",
      "WARNING:pydicom:A value of 'None' for (0028,0008) 'Number of Frames' is invalid, assuming 1 frame\n"
     ]
    },
    {
     "name": "stdout",
     "output_type": "stream",
     "text": [
      "NIRT_DS01_00100.dcm: chest (99.71%)\n",
      "\u001b[1m1/1\u001b[0m \u001b[32m━━━━━━━━━━━━━━━━━━━━\u001b[0m\u001b[37m\u001b[0m \u001b[1m0s\u001b[0m 168ms/step\n"
     ]
    },
    {
     "name": "stderr",
     "output_type": "stream",
     "text": [
      "WARNING:pydicom:A value of 'None' for (0028,0008) 'Number of Frames' is invalid, assuming 1 frame\n",
      "WARNING:pydicom:A value of 'None' for (0028,0008) 'Number of Frames' is invalid, assuming 1 frame\n"
     ]
    },
    {
     "name": "stdout",
     "output_type": "stream",
     "text": [
      "NIRT_DS01_00101.dcm: chest (99.64%)\n",
      "\u001b[1m1/1\u001b[0m \u001b[32m━━━━━━━━━━━━━━━━━━━━\u001b[0m\u001b[37m\u001b[0m \u001b[1m0s\u001b[0m 179ms/step\n"
     ]
    },
    {
     "name": "stderr",
     "output_type": "stream",
     "text": [
      "WARNING:pydicom:A value of 'None' for (0028,0008) 'Number of Frames' is invalid, assuming 1 frame\n",
      "WARNING:pydicom:A value of 'None' for (0028,0008) 'Number of Frames' is invalid, assuming 1 frame\n"
     ]
    },
    {
     "name": "stdout",
     "output_type": "stream",
     "text": [
      "NIRT_DS01_00102.dcm: chest (98.61%)\n",
      "\u001b[1m1/1\u001b[0m \u001b[32m━━━━━━━━━━━━━━━━━━━━\u001b[0m\u001b[37m\u001b[0m \u001b[1m0s\u001b[0m 184ms/step\n"
     ]
    },
    {
     "name": "stderr",
     "output_type": "stream",
     "text": [
      "WARNING:pydicom:A value of 'None' for (0028,0008) 'Number of Frames' is invalid, assuming 1 frame\n",
      "WARNING:pydicom:A value of 'None' for (0028,0008) 'Number of Frames' is invalid, assuming 1 frame\n"
     ]
    },
    {
     "name": "stdout",
     "output_type": "stream",
     "text": [
      "NIRT_DS01_00103.dcm: chest (93.05%)\n",
      "\u001b[1m1/1\u001b[0m \u001b[32m━━━━━━━━━━━━━━━━━━━━\u001b[0m\u001b[37m\u001b[0m \u001b[1m0s\u001b[0m 190ms/step\n"
     ]
    },
    {
     "name": "stderr",
     "output_type": "stream",
     "text": [
      "WARNING:pydicom:A value of 'None' for (0028,0008) 'Number of Frames' is invalid, assuming 1 frame\n",
      "WARNING:pydicom:A value of 'None' for (0028,0008) 'Number of Frames' is invalid, assuming 1 frame\n"
     ]
    },
    {
     "name": "stdout",
     "output_type": "stream",
     "text": [
      "NIRT_DS01_00104.dcm: chest (99.75%)\n",
      "\u001b[1m1/1\u001b[0m \u001b[32m━━━━━━━━━━━━━━━━━━━━\u001b[0m\u001b[37m\u001b[0m \u001b[1m0s\u001b[0m 181ms/step\n"
     ]
    },
    {
     "name": "stderr",
     "output_type": "stream",
     "text": [
      "WARNING:pydicom:A value of 'None' for (0028,0008) 'Number of Frames' is invalid, assuming 1 frame\n",
      "WARNING:pydicom:A value of 'None' for (0028,0008) 'Number of Frames' is invalid, assuming 1 frame\n"
     ]
    },
    {
     "name": "stdout",
     "output_type": "stream",
     "text": [
      "NIRT_DS01_00105.dcm: chest (99.62%)\n",
      "\u001b[1m1/1\u001b[0m \u001b[32m━━━━━━━━━━━━━━━━━━━━\u001b[0m\u001b[37m\u001b[0m \u001b[1m0s\u001b[0m 177ms/step\n"
     ]
    },
    {
     "name": "stderr",
     "output_type": "stream",
     "text": [
      "WARNING:pydicom:A value of 'None' for (0028,0008) 'Number of Frames' is invalid, assuming 1 frame\n",
      "WARNING:pydicom:A value of 'None' for (0028,0008) 'Number of Frames' is invalid, assuming 1 frame\n"
     ]
    },
    {
     "name": "stdout",
     "output_type": "stream",
     "text": [
      "NIRT_DS01_00106.dcm: chest (99.90%)\n",
      "\u001b[1m1/1\u001b[0m \u001b[32m━━━━━━━━━━━━━━━━━━━━\u001b[0m\u001b[37m\u001b[0m \u001b[1m0s\u001b[0m 183ms/step\n"
     ]
    },
    {
     "name": "stderr",
     "output_type": "stream",
     "text": [
      "WARNING:pydicom:A value of 'None' for (0028,0008) 'Number of Frames' is invalid, assuming 1 frame\n",
      "WARNING:pydicom:A value of 'None' for (0028,0008) 'Number of Frames' is invalid, assuming 1 frame\n"
     ]
    },
    {
     "name": "stdout",
     "output_type": "stream",
     "text": [
      "NIRT_DS01_00107.dcm: chest (95.29%)\n",
      "\u001b[1m1/1\u001b[0m \u001b[32m━━━━━━━━━━━━━━━━━━━━\u001b[0m\u001b[37m\u001b[0m \u001b[1m0s\u001b[0m 182ms/step\n"
     ]
    },
    {
     "name": "stderr",
     "output_type": "stream",
     "text": [
      "WARNING:pydicom:A value of 'None' for (0028,0008) 'Number of Frames' is invalid, assuming 1 frame\n",
      "WARNING:pydicom:A value of 'None' for (0028,0008) 'Number of Frames' is invalid, assuming 1 frame\n"
     ]
    },
    {
     "name": "stdout",
     "output_type": "stream",
     "text": [
      "NIRT_DS01_00108.dcm: chest (99.46%)\n",
      "\u001b[1m1/1\u001b[0m \u001b[32m━━━━━━━━━━━━━━━━━━━━\u001b[0m\u001b[37m\u001b[0m \u001b[1m0s\u001b[0m 187ms/step\n"
     ]
    },
    {
     "name": "stderr",
     "output_type": "stream",
     "text": [
      "WARNING:pydicom:A value of 'None' for (0028,0008) 'Number of Frames' is invalid, assuming 1 frame\n",
      "WARNING:pydicom:A value of 'None' for (0028,0008) 'Number of Frames' is invalid, assuming 1 frame\n"
     ]
    },
    {
     "name": "stdout",
     "output_type": "stream",
     "text": [
      "NIRT_DS01_00109.dcm: chest (99.11%)\n",
      "\u001b[1m1/1\u001b[0m \u001b[32m━━━━━━━━━━━━━━━━━━━━\u001b[0m\u001b[37m\u001b[0m \u001b[1m0s\u001b[0m 187ms/step\n"
     ]
    },
    {
     "name": "stderr",
     "output_type": "stream",
     "text": [
      "WARNING:pydicom:A value of 'None' for (0028,0008) 'Number of Frames' is invalid, assuming 1 frame\n",
      "WARNING:pydicom:A value of 'None' for (0028,0008) 'Number of Frames' is invalid, assuming 1 frame\n"
     ]
    },
    {
     "name": "stdout",
     "output_type": "stream",
     "text": [
      "NIRT_DS01_00110.dcm: chest (99.75%)\n",
      "\u001b[1m1/1\u001b[0m \u001b[32m━━━━━━━━━━━━━━━━━━━━\u001b[0m\u001b[37m\u001b[0m \u001b[1m0s\u001b[0m 182ms/step\n"
     ]
    },
    {
     "name": "stderr",
     "output_type": "stream",
     "text": [
      "WARNING:pydicom:A value of 'None' for (0028,0008) 'Number of Frames' is invalid, assuming 1 frame\n",
      "WARNING:pydicom:A value of 'None' for (0028,0008) 'Number of Frames' is invalid, assuming 1 frame\n"
     ]
    },
    {
     "name": "stdout",
     "output_type": "stream",
     "text": [
      "NIRT_DS01_00111.dcm: chest (99.24%)\n",
      "\u001b[1m1/1\u001b[0m \u001b[32m━━━━━━━━━━━━━━━━━━━━\u001b[0m\u001b[37m\u001b[0m \u001b[1m0s\u001b[0m 189ms/step\n"
     ]
    },
    {
     "name": "stderr",
     "output_type": "stream",
     "text": [
      "WARNING:pydicom:A value of 'None' for (0028,0008) 'Number of Frames' is invalid, assuming 1 frame\n",
      "WARNING:pydicom:A value of 'None' for (0028,0008) 'Number of Frames' is invalid, assuming 1 frame\n"
     ]
    },
    {
     "name": "stdout",
     "output_type": "stream",
     "text": [
      "NIRT_DS01_00112.dcm: chest (93.74%)\n",
      "\u001b[1m1/1\u001b[0m \u001b[32m━━━━━━━━━━━━━━━━━━━━\u001b[0m\u001b[37m\u001b[0m \u001b[1m0s\u001b[0m 193ms/step\n"
     ]
    },
    {
     "name": "stderr",
     "output_type": "stream",
     "text": [
      "WARNING:pydicom:A value of 'None' for (0028,0008) 'Number of Frames' is invalid, assuming 1 frame\n",
      "WARNING:pydicom:A value of 'None' for (0028,0008) 'Number of Frames' is invalid, assuming 1 frame\n"
     ]
    },
    {
     "name": "stdout",
     "output_type": "stream",
     "text": [
      "NIRT_DS01_00113.dcm: chest (99.02%)\n",
      "\u001b[1m1/1\u001b[0m \u001b[32m━━━━━━━━━━━━━━━━━━━━\u001b[0m\u001b[37m\u001b[0m \u001b[1m0s\u001b[0m 185ms/step\n"
     ]
    },
    {
     "name": "stderr",
     "output_type": "stream",
     "text": [
      "WARNING:pydicom:A value of 'None' for (0028,0008) 'Number of Frames' is invalid, assuming 1 frame\n",
      "WARNING:pydicom:A value of 'None' for (0028,0008) 'Number of Frames' is invalid, assuming 1 frame\n"
     ]
    },
    {
     "name": "stdout",
     "output_type": "stream",
     "text": [
      "NIRT_DS01_00114.dcm: chest (97.00%)\n",
      "\u001b[1m1/1\u001b[0m \u001b[32m━━━━━━━━━━━━━━━━━━━━\u001b[0m\u001b[37m\u001b[0m \u001b[1m0s\u001b[0m 188ms/step\n"
     ]
    },
    {
     "name": "stderr",
     "output_type": "stream",
     "text": [
      "WARNING:pydicom:A value of 'None' for (0028,0008) 'Number of Frames' is invalid, assuming 1 frame\n",
      "WARNING:pydicom:A value of 'None' for (0028,0008) 'Number of Frames' is invalid, assuming 1 frame\n"
     ]
    },
    {
     "name": "stdout",
     "output_type": "stream",
     "text": [
      "NIRT_DS01_00115.dcm: chest (98.30%)\n",
      "\u001b[1m1/1\u001b[0m \u001b[32m━━━━━━━━━━━━━━━━━━━━\u001b[0m\u001b[37m\u001b[0m \u001b[1m0s\u001b[0m 174ms/step\n"
     ]
    },
    {
     "name": "stderr",
     "output_type": "stream",
     "text": [
      "WARNING:pydicom:A value of 'None' for (0028,0008) 'Number of Frames' is invalid, assuming 1 frame\n",
      "WARNING:pydicom:A value of 'None' for (0028,0008) 'Number of Frames' is invalid, assuming 1 frame\n"
     ]
    },
    {
     "name": "stdout",
     "output_type": "stream",
     "text": [
      "NIRT_DS01_00116.dcm: chest (99.94%)\n",
      "\u001b[1m1/1\u001b[0m \u001b[32m━━━━━━━━━━━━━━━━━━━━\u001b[0m\u001b[37m\u001b[0m \u001b[1m0s\u001b[0m 194ms/step\n"
     ]
    },
    {
     "name": "stderr",
     "output_type": "stream",
     "text": [
      "WARNING:pydicom:A value of 'None' for (0028,0008) 'Number of Frames' is invalid, assuming 1 frame\n",
      "WARNING:pydicom:A value of 'None' for (0028,0008) 'Number of Frames' is invalid, assuming 1 frame\n"
     ]
    },
    {
     "name": "stdout",
     "output_type": "stream",
     "text": [
      "NIRT_DS01_00117.dcm: chest (75.63%)\n",
      "\u001b[1m1/1\u001b[0m \u001b[32m━━━━━━━━━━━━━━━━━━━━\u001b[0m\u001b[37m\u001b[0m \u001b[1m0s\u001b[0m 186ms/step\n"
     ]
    },
    {
     "name": "stderr",
     "output_type": "stream",
     "text": [
      "WARNING:pydicom:A value of 'None' for (0028,0008) 'Number of Frames' is invalid, assuming 1 frame\n",
      "WARNING:pydicom:A value of 'None' for (0028,0008) 'Number of Frames' is invalid, assuming 1 frame\n"
     ]
    },
    {
     "name": "stdout",
     "output_type": "stream",
     "text": [
      "NIRT_DS01_00118.dcm: chest (99.93%)\n",
      "\u001b[1m1/1\u001b[0m \u001b[32m━━━━━━━━━━━━━━━━━━━━\u001b[0m\u001b[37m\u001b[0m \u001b[1m0s\u001b[0m 175ms/step\n"
     ]
    },
    {
     "name": "stderr",
     "output_type": "stream",
     "text": [
      "WARNING:pydicom:A value of 'None' for (0028,0008) 'Number of Frames' is invalid, assuming 1 frame\n",
      "WARNING:pydicom:A value of 'None' for (0028,0008) 'Number of Frames' is invalid, assuming 1 frame\n"
     ]
    },
    {
     "name": "stdout",
     "output_type": "stream",
     "text": [
      "NIRT_DS01_00119.dcm: chest (97.70%)\n",
      "\u001b[1m1/1\u001b[0m \u001b[32m━━━━━━━━━━━━━━━━━━━━\u001b[0m\u001b[37m\u001b[0m \u001b[1m0s\u001b[0m 179ms/step\n"
     ]
    },
    {
     "name": "stderr",
     "output_type": "stream",
     "text": [
      "WARNING:pydicom:A value of 'None' for (0028,0008) 'Number of Frames' is invalid, assuming 1 frame\n",
      "WARNING:pydicom:A value of 'None' for (0028,0008) 'Number of Frames' is invalid, assuming 1 frame\n"
     ]
    },
    {
     "name": "stdout",
     "output_type": "stream",
     "text": [
      "NIRT_DS01_00120.dcm: chest (97.87%)\n",
      "\u001b[1m1/1\u001b[0m \u001b[32m━━━━━━━━━━━━━━━━━━━━\u001b[0m\u001b[37m\u001b[0m \u001b[1m0s\u001b[0m 177ms/step\n"
     ]
    },
    {
     "name": "stderr",
     "output_type": "stream",
     "text": [
      "WARNING:pydicom:A value of 'None' for (0028,0008) 'Number of Frames' is invalid, assuming 1 frame\n",
      "WARNING:pydicom:A value of 'None' for (0028,0008) 'Number of Frames' is invalid, assuming 1 frame\n"
     ]
    },
    {
     "name": "stdout",
     "output_type": "stream",
     "text": [
      "NIRT_DS01_00121.dcm: chest (99.67%)\n",
      "\u001b[1m1/1\u001b[0m \u001b[32m━━━━━━━━━━━━━━━━━━━━\u001b[0m\u001b[37m\u001b[0m \u001b[1m0s\u001b[0m 172ms/step\n"
     ]
    },
    {
     "name": "stderr",
     "output_type": "stream",
     "text": [
      "WARNING:pydicom:A value of 'None' for (0028,0008) 'Number of Frames' is invalid, assuming 1 frame\n",
      "WARNING:pydicom:A value of 'None' for (0028,0008) 'Number of Frames' is invalid, assuming 1 frame\n"
     ]
    },
    {
     "name": "stdout",
     "output_type": "stream",
     "text": [
      "NIRT_DS01_00122.dcm: chest (99.72%)\n",
      "\u001b[1m1/1\u001b[0m \u001b[32m━━━━━━━━━━━━━━━━━━━━\u001b[0m\u001b[37m\u001b[0m \u001b[1m0s\u001b[0m 177ms/step\n"
     ]
    },
    {
     "name": "stderr",
     "output_type": "stream",
     "text": [
      "WARNING:pydicom:A value of 'None' for (0028,0008) 'Number of Frames' is invalid, assuming 1 frame\n",
      "WARNING:pydicom:A value of 'None' for (0028,0008) 'Number of Frames' is invalid, assuming 1 frame\n"
     ]
    },
    {
     "name": "stdout",
     "output_type": "stream",
     "text": [
      "NIRT_DS01_00123.dcm: chest (97.71%)\n",
      "\u001b[1m1/1\u001b[0m \u001b[32m━━━━━━━━━━━━━━━━━━━━\u001b[0m\u001b[37m\u001b[0m \u001b[1m0s\u001b[0m 175ms/step\n"
     ]
    },
    {
     "name": "stderr",
     "output_type": "stream",
     "text": [
      "WARNING:pydicom:A value of 'None' for (0028,0008) 'Number of Frames' is invalid, assuming 1 frame\n",
      "WARNING:pydicom:A value of 'None' for (0028,0008) 'Number of Frames' is invalid, assuming 1 frame\n"
     ]
    },
    {
     "name": "stdout",
     "output_type": "stream",
     "text": [
      "NIRT_DS01_00124.dcm: chest (99.23%)\n",
      "\u001b[1m1/1\u001b[0m \u001b[32m━━━━━━━━━━━━━━━━━━━━\u001b[0m\u001b[37m\u001b[0m \u001b[1m0s\u001b[0m 178ms/step\n"
     ]
    },
    {
     "name": "stderr",
     "output_type": "stream",
     "text": [
      "WARNING:pydicom:A value of 'None' for (0028,0008) 'Number of Frames' is invalid, assuming 1 frame\n",
      "WARNING:pydicom:A value of 'None' for (0028,0008) 'Number of Frames' is invalid, assuming 1 frame\n"
     ]
    },
    {
     "name": "stdout",
     "output_type": "stream",
     "text": [
      "NIRT_DS01_00125.dcm: chest (99.48%)\n",
      "\u001b[1m1/1\u001b[0m \u001b[32m━━━━━━━━━━━━━━━━━━━━\u001b[0m\u001b[37m\u001b[0m \u001b[1m0s\u001b[0m 174ms/step\n"
     ]
    },
    {
     "name": "stderr",
     "output_type": "stream",
     "text": [
      "WARNING:pydicom:A value of 'None' for (0028,0008) 'Number of Frames' is invalid, assuming 1 frame\n",
      "WARNING:pydicom:A value of 'None' for (0028,0008) 'Number of Frames' is invalid, assuming 1 frame\n"
     ]
    },
    {
     "name": "stdout",
     "output_type": "stream",
     "text": [
      "NIRT_DS01_00126.dcm: chest (99.83%)\n",
      "\u001b[1m1/1\u001b[0m \u001b[32m━━━━━━━━━━━━━━━━━━━━\u001b[0m\u001b[37m\u001b[0m \u001b[1m0s\u001b[0m 177ms/step\n"
     ]
    },
    {
     "name": "stderr",
     "output_type": "stream",
     "text": [
      "WARNING:pydicom:A value of 'None' for (0028,0008) 'Number of Frames' is invalid, assuming 1 frame\n",
      "WARNING:pydicom:A value of 'None' for (0028,0008) 'Number of Frames' is invalid, assuming 1 frame\n"
     ]
    },
    {
     "name": "stdout",
     "output_type": "stream",
     "text": [
      "NIRT_DS01_00127.dcm: chest (89.88%)\n",
      "\u001b[1m1/1\u001b[0m \u001b[32m━━━━━━━━━━━━━━━━━━━━\u001b[0m\u001b[37m\u001b[0m \u001b[1m0s\u001b[0m 172ms/step\n"
     ]
    },
    {
     "name": "stderr",
     "output_type": "stream",
     "text": [
      "WARNING:pydicom:A value of 'None' for (0028,0008) 'Number of Frames' is invalid, assuming 1 frame\n",
      "WARNING:pydicom:A value of 'None' for (0028,0008) 'Number of Frames' is invalid, assuming 1 frame\n"
     ]
    },
    {
     "name": "stdout",
     "output_type": "stream",
     "text": [
      "NIRT_DS01_00128.dcm: chest (97.22%)\n",
      "\u001b[1m1/1\u001b[0m \u001b[32m━━━━━━━━━━━━━━━━━━━━\u001b[0m\u001b[37m\u001b[0m \u001b[1m0s\u001b[0m 182ms/step\n"
     ]
    },
    {
     "name": "stderr",
     "output_type": "stream",
     "text": [
      "WARNING:pydicom:A value of 'None' for (0028,0008) 'Number of Frames' is invalid, assuming 1 frame\n",
      "WARNING:pydicom:A value of 'None' for (0028,0008) 'Number of Frames' is invalid, assuming 1 frame\n"
     ]
    },
    {
     "name": "stdout",
     "output_type": "stream",
     "text": [
      "NIRT_DS01_00129.dcm: chest (89.81%)\n",
      "\u001b[1m1/1\u001b[0m \u001b[32m━━━━━━━━━━━━━━━━━━━━\u001b[0m\u001b[37m\u001b[0m \u001b[1m0s\u001b[0m 176ms/step\n"
     ]
    },
    {
     "name": "stderr",
     "output_type": "stream",
     "text": [
      "WARNING:pydicom:A value of 'None' for (0028,0008) 'Number of Frames' is invalid, assuming 1 frame\n",
      "WARNING:pydicom:A value of 'None' for (0028,0008) 'Number of Frames' is invalid, assuming 1 frame\n"
     ]
    },
    {
     "name": "stdout",
     "output_type": "stream",
     "text": [
      "NIRT_DS01_00130.dcm: chest (99.51%)\n",
      "\u001b[1m1/1\u001b[0m \u001b[32m━━━━━━━━━━━━━━━━━━━━\u001b[0m\u001b[37m\u001b[0m \u001b[1m0s\u001b[0m 177ms/step\n"
     ]
    },
    {
     "name": "stderr",
     "output_type": "stream",
     "text": [
      "WARNING:pydicom:A value of 'None' for (0028,0008) 'Number of Frames' is invalid, assuming 1 frame\n",
      "WARNING:pydicom:A value of 'None' for (0028,0008) 'Number of Frames' is invalid, assuming 1 frame\n"
     ]
    },
    {
     "name": "stdout",
     "output_type": "stream",
     "text": [
      "NIRT_DS01_00131.dcm: chest (99.47%)\n",
      "\u001b[1m1/1\u001b[0m \u001b[32m━━━━━━━━━━━━━━━━━━━━\u001b[0m\u001b[37m\u001b[0m \u001b[1m0s\u001b[0m 182ms/step\n"
     ]
    },
    {
     "name": "stderr",
     "output_type": "stream",
     "text": [
      "WARNING:pydicom:A value of 'None' for (0028,0008) 'Number of Frames' is invalid, assuming 1 frame\n",
      "WARNING:pydicom:A value of 'None' for (0028,0008) 'Number of Frames' is invalid, assuming 1 frame\n"
     ]
    },
    {
     "name": "stdout",
     "output_type": "stream",
     "text": [
      "NIRT_DS01_00132.dcm: chest (99.35%)\n",
      "\u001b[1m1/1\u001b[0m \u001b[32m━━━━━━━━━━━━━━━━━━━━\u001b[0m\u001b[37m\u001b[0m \u001b[1m0s\u001b[0m 184ms/step\n"
     ]
    },
    {
     "name": "stderr",
     "output_type": "stream",
     "text": [
      "WARNING:pydicom:A value of 'None' for (0028,0008) 'Number of Frames' is invalid, assuming 1 frame\n",
      "WARNING:pydicom:A value of 'None' for (0028,0008) 'Number of Frames' is invalid, assuming 1 frame\n"
     ]
    },
    {
     "name": "stdout",
     "output_type": "stream",
     "text": [
      "NIRT_DS01_00133.dcm: chest (99.74%)\n",
      "\u001b[1m1/1\u001b[0m \u001b[32m━━━━━━━━━━━━━━━━━━━━\u001b[0m\u001b[37m\u001b[0m \u001b[1m0s\u001b[0m 184ms/step\n"
     ]
    },
    {
     "name": "stderr",
     "output_type": "stream",
     "text": [
      "WARNING:pydicom:A value of 'None' for (0028,0008) 'Number of Frames' is invalid, assuming 1 frame\n",
      "WARNING:pydicom:A value of 'None' for (0028,0008) 'Number of Frames' is invalid, assuming 1 frame\n"
     ]
    },
    {
     "name": "stdout",
     "output_type": "stream",
     "text": [
      "NIRT_DS01_00134.dcm: chest (92.66%)\n",
      "\u001b[1m1/1\u001b[0m \u001b[32m━━━━━━━━━━━━━━━━━━━━\u001b[0m\u001b[37m\u001b[0m \u001b[1m0s\u001b[0m 175ms/step\n"
     ]
    },
    {
     "name": "stderr",
     "output_type": "stream",
     "text": [
      "WARNING:pydicom:A value of 'None' for (0028,0008) 'Number of Frames' is invalid, assuming 1 frame\n",
      "WARNING:pydicom:A value of 'None' for (0028,0008) 'Number of Frames' is invalid, assuming 1 frame\n"
     ]
    },
    {
     "name": "stdout",
     "output_type": "stream",
     "text": [
      "NIRT_DS01_00135.dcm: chest (99.82%)\n",
      "\u001b[1m1/1\u001b[0m \u001b[32m━━━━━━━━━━━━━━━━━━━━\u001b[0m\u001b[37m\u001b[0m \u001b[1m0s\u001b[0m 181ms/step\n"
     ]
    },
    {
     "name": "stderr",
     "output_type": "stream",
     "text": [
      "WARNING:pydicom:A value of 'None' for (0028,0008) 'Number of Frames' is invalid, assuming 1 frame\n",
      "WARNING:pydicom:A value of 'None' for (0028,0008) 'Number of Frames' is invalid, assuming 1 frame\n"
     ]
    },
    {
     "name": "stdout",
     "output_type": "stream",
     "text": [
      "NIRT_DS01_00136.dcm: chest (99.48%)\n",
      "\u001b[1m1/1\u001b[0m \u001b[32m━━━━━━━━━━━━━━━━━━━━\u001b[0m\u001b[37m\u001b[0m \u001b[1m0s\u001b[0m 179ms/step\n"
     ]
    },
    {
     "name": "stderr",
     "output_type": "stream",
     "text": [
      "WARNING:pydicom:A value of 'None' for (0028,0008) 'Number of Frames' is invalid, assuming 1 frame\n",
      "WARNING:pydicom:A value of 'None' for (0028,0008) 'Number of Frames' is invalid, assuming 1 frame\n"
     ]
    },
    {
     "name": "stdout",
     "output_type": "stream",
     "text": [
      "NIRT_DS01_00137.dcm: chest (99.67%)\n",
      "\u001b[1m1/1\u001b[0m \u001b[32m━━━━━━━━━━━━━━━━━━━━\u001b[0m\u001b[37m\u001b[0m \u001b[1m0s\u001b[0m 176ms/step\n"
     ]
    },
    {
     "name": "stderr",
     "output_type": "stream",
     "text": [
      "WARNING:pydicom:A value of 'None' for (0028,0008) 'Number of Frames' is invalid, assuming 1 frame\n",
      "WARNING:pydicom:A value of 'None' for (0028,0008) 'Number of Frames' is invalid, assuming 1 frame\n"
     ]
    },
    {
     "name": "stdout",
     "output_type": "stream",
     "text": [
      "NIRT_DS01_00138.dcm: chest (99.81%)\n",
      "\u001b[1m1/1\u001b[0m \u001b[32m━━━━━━━━━━━━━━━━━━━━\u001b[0m\u001b[37m\u001b[0m \u001b[1m0s\u001b[0m 172ms/step\n"
     ]
    },
    {
     "name": "stderr",
     "output_type": "stream",
     "text": [
      "WARNING:pydicom:A value of 'None' for (0028,0008) 'Number of Frames' is invalid, assuming 1 frame\n",
      "WARNING:pydicom:A value of 'None' for (0028,0008) 'Number of Frames' is invalid, assuming 1 frame\n"
     ]
    },
    {
     "name": "stdout",
     "output_type": "stream",
     "text": [
      "NIRT_DS01_00139.dcm: chest (99.36%)\n",
      "\u001b[1m1/1\u001b[0m \u001b[32m━━━━━━━━━━━━━━━━━━━━\u001b[0m\u001b[37m\u001b[0m \u001b[1m0s\u001b[0m 178ms/step\n"
     ]
    },
    {
     "name": "stderr",
     "output_type": "stream",
     "text": [
      "WARNING:pydicom:A value of 'None' for (0028,0008) 'Number of Frames' is invalid, assuming 1 frame\n",
      "WARNING:pydicom:A value of 'None' for (0028,0008) 'Number of Frames' is invalid, assuming 1 frame\n"
     ]
    },
    {
     "name": "stdout",
     "output_type": "stream",
     "text": [
      "NIRT_DS01_00140.dcm: chest (99.25%)\n",
      "\u001b[1m1/1\u001b[0m \u001b[32m━━━━━━━━━━━━━━━━━━━━\u001b[0m\u001b[37m\u001b[0m \u001b[1m0s\u001b[0m 174ms/step\n"
     ]
    },
    {
     "name": "stderr",
     "output_type": "stream",
     "text": [
      "WARNING:pydicom:A value of 'None' for (0028,0008) 'Number of Frames' is invalid, assuming 1 frame\n",
      "WARNING:pydicom:A value of 'None' for (0028,0008) 'Number of Frames' is invalid, assuming 1 frame\n"
     ]
    },
    {
     "name": "stdout",
     "output_type": "stream",
     "text": [
      "NIRT_DS01_00141.dcm: chest (98.93%)\n",
      "\u001b[1m1/1\u001b[0m \u001b[32m━━━━━━━━━━━━━━━━━━━━\u001b[0m\u001b[37m\u001b[0m \u001b[1m0s\u001b[0m 177ms/step\n"
     ]
    },
    {
     "name": "stderr",
     "output_type": "stream",
     "text": [
      "WARNING:pydicom:A value of 'None' for (0028,0008) 'Number of Frames' is invalid, assuming 1 frame\n",
      "WARNING:pydicom:A value of 'None' for (0028,0008) 'Number of Frames' is invalid, assuming 1 frame\n"
     ]
    },
    {
     "name": "stdout",
     "output_type": "stream",
     "text": [
      "NIRT_DS01_00142.dcm: chest (97.83%)\n",
      "\u001b[1m1/1\u001b[0m \u001b[32m━━━━━━━━━━━━━━━━━━━━\u001b[0m\u001b[37m\u001b[0m \u001b[1m0s\u001b[0m 172ms/step\n"
     ]
    },
    {
     "name": "stderr",
     "output_type": "stream",
     "text": [
      "WARNING:pydicom:A value of 'None' for (0028,0008) 'Number of Frames' is invalid, assuming 1 frame\n",
      "WARNING:pydicom:A value of 'None' for (0028,0008) 'Number of Frames' is invalid, assuming 1 frame\n"
     ]
    },
    {
     "name": "stdout",
     "output_type": "stream",
     "text": [
      "NIRT_DS01_00143.dcm: chest (99.96%)\n",
      "\u001b[1m1/1\u001b[0m \u001b[32m━━━━━━━━━━━━━━━━━━━━\u001b[0m\u001b[37m\u001b[0m \u001b[1m0s\u001b[0m 178ms/step\n"
     ]
    },
    {
     "name": "stderr",
     "output_type": "stream",
     "text": [
      "WARNING:pydicom:A value of 'None' for (0028,0008) 'Number of Frames' is invalid, assuming 1 frame\n",
      "WARNING:pydicom:A value of 'None' for (0028,0008) 'Number of Frames' is invalid, assuming 1 frame\n"
     ]
    },
    {
     "name": "stdout",
     "output_type": "stream",
     "text": [
      "NIRT_DS01_00144.dcm: chest (98.57%)\n",
      "\u001b[1m1/1\u001b[0m \u001b[32m━━━━━━━━━━━━━━━━━━━━\u001b[0m\u001b[37m\u001b[0m \u001b[1m0s\u001b[0m 186ms/step\n"
     ]
    },
    {
     "name": "stderr",
     "output_type": "stream",
     "text": [
      "WARNING:pydicom:A value of 'None' for (0028,0008) 'Number of Frames' is invalid, assuming 1 frame\n",
      "WARNING:pydicom:A value of 'None' for (0028,0008) 'Number of Frames' is invalid, assuming 1 frame\n"
     ]
    },
    {
     "name": "stdout",
     "output_type": "stream",
     "text": [
      "NIRT_DS01_00145.dcm: chest (99.19%)\n",
      "\u001b[1m1/1\u001b[0m \u001b[32m━━━━━━━━━━━━━━━━━━━━\u001b[0m\u001b[37m\u001b[0m \u001b[1m0s\u001b[0m 176ms/step\n"
     ]
    },
    {
     "name": "stderr",
     "output_type": "stream",
     "text": [
      "WARNING:pydicom:A value of 'None' for (0028,0008) 'Number of Frames' is invalid, assuming 1 frame\n",
      "WARNING:pydicom:A value of 'None' for (0028,0008) 'Number of Frames' is invalid, assuming 1 frame\n"
     ]
    },
    {
     "name": "stdout",
     "output_type": "stream",
     "text": [
      "NIRT_DS01_00146.dcm: chest (92.78%)\n",
      "\u001b[1m1/1\u001b[0m \u001b[32m━━━━━━━━━━━━━━━━━━━━\u001b[0m\u001b[37m\u001b[0m \u001b[1m0s\u001b[0m 179ms/step\n"
     ]
    },
    {
     "name": "stderr",
     "output_type": "stream",
     "text": [
      "WARNING:pydicom:A value of 'None' for (0028,0008) 'Number of Frames' is invalid, assuming 1 frame\n",
      "WARNING:pydicom:A value of 'None' for (0028,0008) 'Number of Frames' is invalid, assuming 1 frame\n"
     ]
    },
    {
     "name": "stdout",
     "output_type": "stream",
     "text": [
      "NIRT_DS01_00147.dcm: chest (97.65%)\n",
      "\u001b[1m1/1\u001b[0m \u001b[32m━━━━━━━━━━━━━━━━━━━━\u001b[0m\u001b[37m\u001b[0m \u001b[1m0s\u001b[0m 181ms/step\n"
     ]
    },
    {
     "name": "stderr",
     "output_type": "stream",
     "text": [
      "WARNING:pydicom:A value of 'None' for (0028,0008) 'Number of Frames' is invalid, assuming 1 frame\n",
      "WARNING:pydicom:A value of 'None' for (0028,0008) 'Number of Frames' is invalid, assuming 1 frame\n"
     ]
    },
    {
     "name": "stdout",
     "output_type": "stream",
     "text": [
      "NIRT_DS01_00148.dcm: chest (88.12%)\n",
      "\u001b[1m1/1\u001b[0m \u001b[32m━━━━━━━━━━━━━━━━━━━━\u001b[0m\u001b[37m\u001b[0m \u001b[1m0s\u001b[0m 193ms/step\n"
     ]
    },
    {
     "name": "stderr",
     "output_type": "stream",
     "text": [
      "WARNING:pydicom:A value of 'None' for (0028,0008) 'Number of Frames' is invalid, assuming 1 frame\n",
      "WARNING:pydicom:A value of 'None' for (0028,0008) 'Number of Frames' is invalid, assuming 1 frame\n"
     ]
    },
    {
     "name": "stdout",
     "output_type": "stream",
     "text": [
      "NIRT_DS01_00149.dcm: chest (99.69%)\n",
      "\u001b[1m1/1\u001b[0m \u001b[32m━━━━━━━━━━━━━━━━━━━━\u001b[0m\u001b[37m\u001b[0m \u001b[1m0s\u001b[0m 194ms/step\n"
     ]
    },
    {
     "name": "stderr",
     "output_type": "stream",
     "text": [
      "WARNING:pydicom:A value of 'None' for (0028,0008) 'Number of Frames' is invalid, assuming 1 frame\n",
      "WARNING:pydicom:A value of 'None' for (0028,0008) 'Number of Frames' is invalid, assuming 1 frame\n"
     ]
    },
    {
     "name": "stdout",
     "output_type": "stream",
     "text": [
      "NIRT_DS01_00150.dcm: chest (91.70%)\n",
      "\u001b[1m1/1\u001b[0m \u001b[32m━━━━━━━━━━━━━━━━━━━━\u001b[0m\u001b[37m\u001b[0m \u001b[1m0s\u001b[0m 171ms/step\n"
     ]
    },
    {
     "name": "stderr",
     "output_type": "stream",
     "text": [
      "WARNING:pydicom:A value of 'None' for (0028,0008) 'Number of Frames' is invalid, assuming 1 frame\n",
      "WARNING:pydicom:A value of 'None' for (0028,0008) 'Number of Frames' is invalid, assuming 1 frame\n"
     ]
    },
    {
     "name": "stdout",
     "output_type": "stream",
     "text": [
      "NIRT_DS01_00151.dcm: chest (99.86%)\n",
      "\u001b[1m1/1\u001b[0m \u001b[32m━━━━━━━━━━━━━━━━━━━━\u001b[0m\u001b[37m\u001b[0m \u001b[1m0s\u001b[0m 172ms/step\n"
     ]
    },
    {
     "name": "stderr",
     "output_type": "stream",
     "text": [
      "WARNING:pydicom:A value of 'None' for (0028,0008) 'Number of Frames' is invalid, assuming 1 frame\n",
      "WARNING:pydicom:A value of 'None' for (0028,0008) 'Number of Frames' is invalid, assuming 1 frame\n"
     ]
    },
    {
     "name": "stdout",
     "output_type": "stream",
     "text": [
      "NIRT_DS01_00152.dcm: chest (96.54%)\n",
      "\u001b[1m1/1\u001b[0m \u001b[32m━━━━━━━━━━━━━━━━━━━━\u001b[0m\u001b[37m\u001b[0m \u001b[1m0s\u001b[0m 177ms/step\n"
     ]
    },
    {
     "name": "stderr",
     "output_type": "stream",
     "text": [
      "WARNING:pydicom:A value of 'None' for (0028,0008) 'Number of Frames' is invalid, assuming 1 frame\n",
      "WARNING:pydicom:A value of 'None' for (0028,0008) 'Number of Frames' is invalid, assuming 1 frame\n"
     ]
    },
    {
     "name": "stdout",
     "output_type": "stream",
     "text": [
      "NIRT_DS01_00153.dcm: chest (95.34%)\n",
      "\u001b[1m1/1\u001b[0m \u001b[32m━━━━━━━━━━━━━━━━━━━━\u001b[0m\u001b[37m\u001b[0m \u001b[1m0s\u001b[0m 178ms/step\n"
     ]
    },
    {
     "name": "stderr",
     "output_type": "stream",
     "text": [
      "WARNING:pydicom:A value of 'None' for (0028,0008) 'Number of Frames' is invalid, assuming 1 frame\n",
      "WARNING:pydicom:A value of 'None' for (0028,0008) 'Number of Frames' is invalid, assuming 1 frame\n"
     ]
    },
    {
     "name": "stdout",
     "output_type": "stream",
     "text": [
      "NIRT_DS01_00154.dcm: chest (99.96%)\n",
      "\u001b[1m1/1\u001b[0m \u001b[32m━━━━━━━━━━━━━━━━━━━━\u001b[0m\u001b[37m\u001b[0m \u001b[1m0s\u001b[0m 186ms/step\n"
     ]
    },
    {
     "name": "stderr",
     "output_type": "stream",
     "text": [
      "WARNING:pydicom:A value of 'None' for (0028,0008) 'Number of Frames' is invalid, assuming 1 frame\n",
      "WARNING:pydicom:A value of 'None' for (0028,0008) 'Number of Frames' is invalid, assuming 1 frame\n"
     ]
    },
    {
     "name": "stdout",
     "output_type": "stream",
     "text": [
      "NIRT_DS01_00155.dcm: chest (99.79%)\n",
      "\u001b[1m1/1\u001b[0m \u001b[32m━━━━━━━━━━━━━━━━━━━━\u001b[0m\u001b[37m\u001b[0m \u001b[1m0s\u001b[0m 175ms/step\n"
     ]
    },
    {
     "name": "stderr",
     "output_type": "stream",
     "text": [
      "WARNING:pydicom:A value of 'None' for (0028,0008) 'Number of Frames' is invalid, assuming 1 frame\n",
      "WARNING:pydicom:A value of 'None' for (0028,0008) 'Number of Frames' is invalid, assuming 1 frame\n"
     ]
    },
    {
     "name": "stdout",
     "output_type": "stream",
     "text": [
      "NIRT_DS01_00156.dcm: chest (97.77%)\n",
      "\u001b[1m1/1\u001b[0m \u001b[32m━━━━━━━━━━━━━━━━━━━━\u001b[0m\u001b[37m\u001b[0m \u001b[1m0s\u001b[0m 178ms/step\n"
     ]
    },
    {
     "name": "stderr",
     "output_type": "stream",
     "text": [
      "WARNING:pydicom:A value of 'None' for (0028,0008) 'Number of Frames' is invalid, assuming 1 frame\n",
      "WARNING:pydicom:A value of 'None' for (0028,0008) 'Number of Frames' is invalid, assuming 1 frame\n"
     ]
    },
    {
     "name": "stdout",
     "output_type": "stream",
     "text": [
      "NIRT_DS01_00157.dcm: chest (99.71%)\n",
      "\u001b[1m1/1\u001b[0m \u001b[32m━━━━━━━━━━━━━━━━━━━━\u001b[0m\u001b[37m\u001b[0m \u001b[1m0s\u001b[0m 181ms/step\n"
     ]
    },
    {
     "name": "stderr",
     "output_type": "stream",
     "text": [
      "WARNING:pydicom:A value of 'None' for (0028,0008) 'Number of Frames' is invalid, assuming 1 frame\n",
      "WARNING:pydicom:A value of 'None' for (0028,0008) 'Number of Frames' is invalid, assuming 1 frame\n"
     ]
    },
    {
     "name": "stdout",
     "output_type": "stream",
     "text": [
      "NIRT_DS01_00158.dcm: chest (82.65%)\n",
      "\u001b[1m1/1\u001b[0m \u001b[32m━━━━━━━━━━━━━━━━━━━━\u001b[0m\u001b[37m\u001b[0m \u001b[1m0s\u001b[0m 186ms/step\n"
     ]
    },
    {
     "name": "stderr",
     "output_type": "stream",
     "text": [
      "WARNING:pydicom:A value of 'None' for (0028,0008) 'Number of Frames' is invalid, assuming 1 frame\n",
      "WARNING:pydicom:A value of 'None' for (0028,0008) 'Number of Frames' is invalid, assuming 1 frame\n"
     ]
    },
    {
     "name": "stdout",
     "output_type": "stream",
     "text": [
      "NIRT_DS01_00159.dcm: chest (84.24%)\n",
      "\u001b[1m1/1\u001b[0m \u001b[32m━━━━━━━━━━━━━━━━━━━━\u001b[0m\u001b[37m\u001b[0m \u001b[1m0s\u001b[0m 190ms/step\n"
     ]
    },
    {
     "name": "stderr",
     "output_type": "stream",
     "text": [
      "WARNING:pydicom:A value of 'None' for (0028,0008) 'Number of Frames' is invalid, assuming 1 frame\n",
      "WARNING:pydicom:A value of 'None' for (0028,0008) 'Number of Frames' is invalid, assuming 1 frame\n"
     ]
    },
    {
     "name": "stdout",
     "output_type": "stream",
     "text": [
      "NIRT_DS01_00160.dcm: chest (97.61%)\n",
      "\u001b[1m1/1\u001b[0m \u001b[32m━━━━━━━━━━━━━━━━━━━━\u001b[0m\u001b[37m\u001b[0m \u001b[1m0s\u001b[0m 179ms/step\n"
     ]
    },
    {
     "name": "stderr",
     "output_type": "stream",
     "text": [
      "WARNING:pydicom:A value of 'None' for (0028,0008) 'Number of Frames' is invalid, assuming 1 frame\n",
      "WARNING:pydicom:A value of 'None' for (0028,0008) 'Number of Frames' is invalid, assuming 1 frame\n"
     ]
    },
    {
     "name": "stdout",
     "output_type": "stream",
     "text": [
      "NIRT_DS01_00161.dcm: chest (99.71%)\n",
      "\u001b[1m1/1\u001b[0m \u001b[32m━━━━━━━━━━━━━━━━━━━━\u001b[0m\u001b[37m\u001b[0m \u001b[1m0s\u001b[0m 187ms/step\n"
     ]
    },
    {
     "name": "stderr",
     "output_type": "stream",
     "text": [
      "WARNING:pydicom:A value of 'None' for (0028,0008) 'Number of Frames' is invalid, assuming 1 frame\n",
      "WARNING:pydicom:A value of 'None' for (0028,0008) 'Number of Frames' is invalid, assuming 1 frame\n"
     ]
    },
    {
     "name": "stdout",
     "output_type": "stream",
     "text": [
      "NIRT_DS01_00162.dcm: chest (99.60%)\n",
      "\u001b[1m1/1\u001b[0m \u001b[32m━━━━━━━━━━━━━━━━━━━━\u001b[0m\u001b[37m\u001b[0m \u001b[1m0s\u001b[0m 184ms/step\n"
     ]
    },
    {
     "name": "stderr",
     "output_type": "stream",
     "text": [
      "WARNING:pydicom:A value of 'None' for (0028,0008) 'Number of Frames' is invalid, assuming 1 frame\n",
      "WARNING:pydicom:A value of 'None' for (0028,0008) 'Number of Frames' is invalid, assuming 1 frame\n"
     ]
    },
    {
     "name": "stdout",
     "output_type": "stream",
     "text": [
      "NIRT_DS01_00163.dcm: chest (97.62%)\n",
      "\u001b[1m1/1\u001b[0m \u001b[32m━━━━━━━━━━━━━━━━━━━━\u001b[0m\u001b[37m\u001b[0m \u001b[1m0s\u001b[0m 193ms/step\n"
     ]
    },
    {
     "name": "stderr",
     "output_type": "stream",
     "text": [
      "WARNING:pydicom:A value of 'None' for (0028,0008) 'Number of Frames' is invalid, assuming 1 frame\n",
      "WARNING:pydicom:A value of 'None' for (0028,0008) 'Number of Frames' is invalid, assuming 1 frame\n"
     ]
    },
    {
     "name": "stdout",
     "output_type": "stream",
     "text": [
      "NIRT_DS01_00164.dcm: chest (96.56%)\n",
      "\u001b[1m1/1\u001b[0m \u001b[32m━━━━━━━━━━━━━━━━━━━━\u001b[0m\u001b[37m\u001b[0m \u001b[1m0s\u001b[0m 179ms/step\n"
     ]
    },
    {
     "name": "stderr",
     "output_type": "stream",
     "text": [
      "WARNING:pydicom:A value of 'None' for (0028,0008) 'Number of Frames' is invalid, assuming 1 frame\n",
      "WARNING:pydicom:A value of 'None' for (0028,0008) 'Number of Frames' is invalid, assuming 1 frame\n"
     ]
    },
    {
     "name": "stdout",
     "output_type": "stream",
     "text": [
      "NIRT_DS01_00165.dcm: chest (95.41%)\n",
      "\u001b[1m1/1\u001b[0m \u001b[32m━━━━━━━━━━━━━━━━━━━━\u001b[0m\u001b[37m\u001b[0m \u001b[1m0s\u001b[0m 182ms/step\n"
     ]
    },
    {
     "name": "stderr",
     "output_type": "stream",
     "text": [
      "WARNING:pydicom:A value of 'None' for (0028,0008) 'Number of Frames' is invalid, assuming 1 frame\n",
      "WARNING:pydicom:A value of 'None' for (0028,0008) 'Number of Frames' is invalid, assuming 1 frame\n"
     ]
    },
    {
     "name": "stdout",
     "output_type": "stream",
     "text": [
      "NIRT_DS01_00166.dcm: chest (99.43%)\n",
      "\u001b[1m1/1\u001b[0m \u001b[32m━━━━━━━━━━━━━━━━━━━━\u001b[0m\u001b[37m\u001b[0m \u001b[1m0s\u001b[0m 182ms/step\n"
     ]
    },
    {
     "name": "stderr",
     "output_type": "stream",
     "text": [
      "WARNING:pydicom:A value of 'None' for (0028,0008) 'Number of Frames' is invalid, assuming 1 frame\n",
      "WARNING:pydicom:A value of 'None' for (0028,0008) 'Number of Frames' is invalid, assuming 1 frame\n"
     ]
    },
    {
     "name": "stdout",
     "output_type": "stream",
     "text": [
      "NIRT_DS01_00167.dcm: chest (99.78%)\n",
      "\u001b[1m1/1\u001b[0m \u001b[32m━━━━━━━━━━━━━━━━━━━━\u001b[0m\u001b[37m\u001b[0m \u001b[1m0s\u001b[0m 176ms/step\n"
     ]
    },
    {
     "name": "stderr",
     "output_type": "stream",
     "text": [
      "WARNING:pydicom:A value of 'None' for (0028,0008) 'Number of Frames' is invalid, assuming 1 frame\n",
      "WARNING:pydicom:A value of 'None' for (0028,0008) 'Number of Frames' is invalid, assuming 1 frame\n"
     ]
    },
    {
     "name": "stdout",
     "output_type": "stream",
     "text": [
      "NIRT_DS01_00168.dcm: chest (96.28%)\n",
      "\u001b[1m1/1\u001b[0m \u001b[32m━━━━━━━━━━━━━━━━━━━━\u001b[0m\u001b[37m\u001b[0m \u001b[1m0s\u001b[0m 182ms/step\n"
     ]
    },
    {
     "name": "stderr",
     "output_type": "stream",
     "text": [
      "WARNING:pydicom:A value of 'None' for (0028,0008) 'Number of Frames' is invalid, assuming 1 frame\n",
      "WARNING:pydicom:A value of 'None' for (0028,0008) 'Number of Frames' is invalid, assuming 1 frame\n"
     ]
    },
    {
     "name": "stdout",
     "output_type": "stream",
     "text": [
      "NIRT_DS01_00169.dcm: chest (82.52%)\n",
      "\u001b[1m1/1\u001b[0m \u001b[32m━━━━━━━━━━━━━━━━━━━━\u001b[0m\u001b[37m\u001b[0m \u001b[1m0s\u001b[0m 188ms/step\n"
     ]
    },
    {
     "name": "stderr",
     "output_type": "stream",
     "text": [
      "WARNING:pydicom:A value of 'None' for (0028,0008) 'Number of Frames' is invalid, assuming 1 frame\n",
      "WARNING:pydicom:A value of 'None' for (0028,0008) 'Number of Frames' is invalid, assuming 1 frame\n"
     ]
    },
    {
     "name": "stdout",
     "output_type": "stream",
     "text": [
      "NIRT_DS01_00170.dcm: chest (99.07%)\n",
      "\u001b[1m1/1\u001b[0m \u001b[32m━━━━━━━━━━━━━━━━━━━━\u001b[0m\u001b[37m\u001b[0m \u001b[1m0s\u001b[0m 176ms/step\n"
     ]
    },
    {
     "name": "stderr",
     "output_type": "stream",
     "text": [
      "WARNING:pydicom:A value of 'None' for (0028,0008) 'Number of Frames' is invalid, assuming 1 frame\n",
      "WARNING:pydicom:A value of 'None' for (0028,0008) 'Number of Frames' is invalid, assuming 1 frame\n"
     ]
    },
    {
     "name": "stdout",
     "output_type": "stream",
     "text": [
      "NIRT_DS01_00171.dcm: others (59.32%)\n",
      "\u001b[1m1/1\u001b[0m \u001b[32m━━━━━━━━━━━━━━━━━━━━\u001b[0m\u001b[37m\u001b[0m \u001b[1m0s\u001b[0m 174ms/step\n"
     ]
    },
    {
     "name": "stderr",
     "output_type": "stream",
     "text": [
      "WARNING:pydicom:A value of 'None' for (0028,0008) 'Number of Frames' is invalid, assuming 1 frame\n",
      "WARNING:pydicom:A value of 'None' for (0028,0008) 'Number of Frames' is invalid, assuming 1 frame\n"
     ]
    },
    {
     "name": "stdout",
     "output_type": "stream",
     "text": [
      "NIRT_DS01_00172.dcm: chest (94.45%)\n",
      "\u001b[1m1/1\u001b[0m \u001b[32m━━━━━━━━━━━━━━━━━━━━\u001b[0m\u001b[37m\u001b[0m \u001b[1m0s\u001b[0m 182ms/step\n"
     ]
    },
    {
     "name": "stderr",
     "output_type": "stream",
     "text": [
      "WARNING:pydicom:A value of 'None' for (0028,0008) 'Number of Frames' is invalid, assuming 1 frame\n",
      "WARNING:pydicom:A value of 'None' for (0028,0008) 'Number of Frames' is invalid, assuming 1 frame\n"
     ]
    },
    {
     "name": "stdout",
     "output_type": "stream",
     "text": [
      "NIRT_DS01_00173.dcm: chest (96.59%)\n",
      "\u001b[1m1/1\u001b[0m \u001b[32m━━━━━━━━━━━━━━━━━━━━\u001b[0m\u001b[37m\u001b[0m \u001b[1m0s\u001b[0m 183ms/step\n"
     ]
    },
    {
     "name": "stderr",
     "output_type": "stream",
     "text": [
      "WARNING:pydicom:A value of 'None' for (0028,0008) 'Number of Frames' is invalid, assuming 1 frame\n",
      "WARNING:pydicom:A value of 'None' for (0028,0008) 'Number of Frames' is invalid, assuming 1 frame\n"
     ]
    },
    {
     "name": "stdout",
     "output_type": "stream",
     "text": [
      "NIRT_DS01_00174.dcm: chest (74.71%)\n",
      "\u001b[1m1/1\u001b[0m \u001b[32m━━━━━━━━━━━━━━━━━━━━\u001b[0m\u001b[37m\u001b[0m \u001b[1m0s\u001b[0m 175ms/step\n"
     ]
    },
    {
     "name": "stderr",
     "output_type": "stream",
     "text": [
      "WARNING:pydicom:A value of 'None' for (0028,0008) 'Number of Frames' is invalid, assuming 1 frame\n",
      "WARNING:pydicom:A value of 'None' for (0028,0008) 'Number of Frames' is invalid, assuming 1 frame\n"
     ]
    },
    {
     "name": "stdout",
     "output_type": "stream",
     "text": [
      "NIRT_DS01_00175.dcm: chest (92.89%)\n",
      "\u001b[1m1/1\u001b[0m \u001b[32m━━━━━━━━━━━━━━━━━━━━\u001b[0m\u001b[37m\u001b[0m \u001b[1m0s\u001b[0m 177ms/step\n"
     ]
    },
    {
     "name": "stderr",
     "output_type": "stream",
     "text": [
      "WARNING:pydicom:A value of 'None' for (0028,0008) 'Number of Frames' is invalid, assuming 1 frame\n",
      "WARNING:pydicom:A value of 'None' for (0028,0008) 'Number of Frames' is invalid, assuming 1 frame\n"
     ]
    },
    {
     "name": "stdout",
     "output_type": "stream",
     "text": [
      "NIRT_DS01_00176.dcm: chest (99.50%)\n",
      "\u001b[1m1/1\u001b[0m \u001b[32m━━━━━━━━━━━━━━━━━━━━\u001b[0m\u001b[37m\u001b[0m \u001b[1m0s\u001b[0m 182ms/step\n"
     ]
    },
    {
     "name": "stderr",
     "output_type": "stream",
     "text": [
      "WARNING:pydicom:A value of 'None' for (0028,0008) 'Number of Frames' is invalid, assuming 1 frame\n",
      "WARNING:pydicom:A value of 'None' for (0028,0008) 'Number of Frames' is invalid, assuming 1 frame\n"
     ]
    },
    {
     "name": "stdout",
     "output_type": "stream",
     "text": [
      "NIRT_DS01_00177.dcm: chest (86.55%)\n",
      "\u001b[1m1/1\u001b[0m \u001b[32m━━━━━━━━━━━━━━━━━━━━\u001b[0m\u001b[37m\u001b[0m \u001b[1m0s\u001b[0m 183ms/step\n"
     ]
    },
    {
     "name": "stderr",
     "output_type": "stream",
     "text": [
      "WARNING:pydicom:A value of 'None' for (0028,0008) 'Number of Frames' is invalid, assuming 1 frame\n",
      "WARNING:pydicom:A value of 'None' for (0028,0008) 'Number of Frames' is invalid, assuming 1 frame\n"
     ]
    },
    {
     "name": "stdout",
     "output_type": "stream",
     "text": [
      "NIRT_DS01_00178.dcm: chest (99.42%)\n",
      "\u001b[1m1/1\u001b[0m \u001b[32m━━━━━━━━━━━━━━━━━━━━\u001b[0m\u001b[37m\u001b[0m \u001b[1m0s\u001b[0m 179ms/step\n"
     ]
    },
    {
     "name": "stderr",
     "output_type": "stream",
     "text": [
      "WARNING:pydicom:A value of 'None' for (0028,0008) 'Number of Frames' is invalid, assuming 1 frame\n",
      "WARNING:pydicom:A value of 'None' for (0028,0008) 'Number of Frames' is invalid, assuming 1 frame\n"
     ]
    },
    {
     "name": "stdout",
     "output_type": "stream",
     "text": [
      "NIRT_DS01_00179.dcm: chest (99.10%)\n",
      "\u001b[1m1/1\u001b[0m \u001b[32m━━━━━━━━━━━━━━━━━━━━\u001b[0m\u001b[37m\u001b[0m \u001b[1m0s\u001b[0m 173ms/step\n"
     ]
    },
    {
     "name": "stderr",
     "output_type": "stream",
     "text": [
      "WARNING:pydicom:A value of 'None' for (0028,0008) 'Number of Frames' is invalid, assuming 1 frame\n",
      "WARNING:pydicom:A value of 'None' for (0028,0008) 'Number of Frames' is invalid, assuming 1 frame\n"
     ]
    },
    {
     "name": "stdout",
     "output_type": "stream",
     "text": [
      "NIRT_DS01_00180.dcm: chest (99.79%)\n",
      "\u001b[1m1/1\u001b[0m \u001b[32m━━━━━━━━━━━━━━━━━━━━\u001b[0m\u001b[37m\u001b[0m \u001b[1m0s\u001b[0m 181ms/step\n"
     ]
    },
    {
     "name": "stderr",
     "output_type": "stream",
     "text": [
      "WARNING:pydicom:A value of 'None' for (0028,0008) 'Number of Frames' is invalid, assuming 1 frame\n",
      "WARNING:pydicom:A value of 'None' for (0028,0008) 'Number of Frames' is invalid, assuming 1 frame\n"
     ]
    },
    {
     "name": "stdout",
     "output_type": "stream",
     "text": [
      "NIRT_DS01_00181.dcm: chest (98.52%)\n",
      "\u001b[1m1/1\u001b[0m \u001b[32m━━━━━━━━━━━━━━━━━━━━\u001b[0m\u001b[37m\u001b[0m \u001b[1m0s\u001b[0m 186ms/step\n"
     ]
    },
    {
     "name": "stderr",
     "output_type": "stream",
     "text": [
      "WARNING:pydicom:A value of 'None' for (0028,0008) 'Number of Frames' is invalid, assuming 1 frame\n",
      "WARNING:pydicom:A value of 'None' for (0028,0008) 'Number of Frames' is invalid, assuming 1 frame\n"
     ]
    },
    {
     "name": "stdout",
     "output_type": "stream",
     "text": [
      "NIRT_DS01_00182.dcm: chest (89.54%)\n",
      "\u001b[1m1/1\u001b[0m \u001b[32m━━━━━━━━━━━━━━━━━━━━\u001b[0m\u001b[37m\u001b[0m \u001b[1m0s\u001b[0m 177ms/step\n"
     ]
    },
    {
     "name": "stderr",
     "output_type": "stream",
     "text": [
      "WARNING:pydicom:A value of 'None' for (0028,0008) 'Number of Frames' is invalid, assuming 1 frame\n",
      "WARNING:pydicom:A value of 'None' for (0028,0008) 'Number of Frames' is invalid, assuming 1 frame\n"
     ]
    },
    {
     "name": "stdout",
     "output_type": "stream",
     "text": [
      "NIRT_DS01_00183.dcm: chest (99.69%)\n",
      "\u001b[1m1/1\u001b[0m \u001b[32m━━━━━━━━━━━━━━━━━━━━\u001b[0m\u001b[37m\u001b[0m \u001b[1m0s\u001b[0m 182ms/step\n"
     ]
    },
    {
     "name": "stderr",
     "output_type": "stream",
     "text": [
      "WARNING:pydicom:A value of 'None' for (0028,0008) 'Number of Frames' is invalid, assuming 1 frame\n",
      "WARNING:pydicom:A value of 'None' for (0028,0008) 'Number of Frames' is invalid, assuming 1 frame\n"
     ]
    },
    {
     "name": "stdout",
     "output_type": "stream",
     "text": [
      "NIRT_DS01_00184.dcm: chest (99.59%)\n",
      "\u001b[1m1/1\u001b[0m \u001b[32m━━━━━━━━━━━━━━━━━━━━\u001b[0m\u001b[37m\u001b[0m \u001b[1m0s\u001b[0m 177ms/step\n"
     ]
    },
    {
     "name": "stderr",
     "output_type": "stream",
     "text": [
      "WARNING:pydicom:A value of 'None' for (0028,0008) 'Number of Frames' is invalid, assuming 1 frame\n",
      "WARNING:pydicom:A value of 'None' for (0028,0008) 'Number of Frames' is invalid, assuming 1 frame\n"
     ]
    },
    {
     "name": "stdout",
     "output_type": "stream",
     "text": [
      "NIRT_DS01_00185.dcm: chest (99.39%)\n",
      "\u001b[1m1/1\u001b[0m \u001b[32m━━━━━━━━━━━━━━━━━━━━\u001b[0m\u001b[37m\u001b[0m \u001b[1m0s\u001b[0m 177ms/step\n"
     ]
    },
    {
     "name": "stderr",
     "output_type": "stream",
     "text": [
      "WARNING:pydicom:A value of 'None' for (0028,0008) 'Number of Frames' is invalid, assuming 1 frame\n",
      "WARNING:pydicom:A value of 'None' for (0028,0008) 'Number of Frames' is invalid, assuming 1 frame\n"
     ]
    },
    {
     "name": "stdout",
     "output_type": "stream",
     "text": [
      "NIRT_DS01_00186.dcm: chest (58.60%)\n",
      "\u001b[1m1/1\u001b[0m \u001b[32m━━━━━━━━━━━━━━━━━━━━\u001b[0m\u001b[37m\u001b[0m \u001b[1m0s\u001b[0m 178ms/step\n"
     ]
    },
    {
     "name": "stderr",
     "output_type": "stream",
     "text": [
      "WARNING:pydicom:A value of 'None' for (0028,0008) 'Number of Frames' is invalid, assuming 1 frame\n",
      "WARNING:pydicom:A value of 'None' for (0028,0008) 'Number of Frames' is invalid, assuming 1 frame\n"
     ]
    },
    {
     "name": "stdout",
     "output_type": "stream",
     "text": [
      "NIRT_DS01_00187.dcm: chest (99.86%)\n",
      "\u001b[1m1/1\u001b[0m \u001b[32m━━━━━━━━━━━━━━━━━━━━\u001b[0m\u001b[37m\u001b[0m \u001b[1m0s\u001b[0m 179ms/step\n"
     ]
    },
    {
     "name": "stderr",
     "output_type": "stream",
     "text": [
      "WARNING:pydicom:A value of 'None' for (0028,0008) 'Number of Frames' is invalid, assuming 1 frame\n",
      "WARNING:pydicom:A value of 'None' for (0028,0008) 'Number of Frames' is invalid, assuming 1 frame\n"
     ]
    },
    {
     "name": "stdout",
     "output_type": "stream",
     "text": [
      "NIRT_DS01_00188.dcm: chest (97.46%)\n",
      "\u001b[1m1/1\u001b[0m \u001b[32m━━━━━━━━━━━━━━━━━━━━\u001b[0m\u001b[37m\u001b[0m \u001b[1m0s\u001b[0m 179ms/step\n"
     ]
    },
    {
     "name": "stderr",
     "output_type": "stream",
     "text": [
      "WARNING:pydicom:A value of 'None' for (0028,0008) 'Number of Frames' is invalid, assuming 1 frame\n",
      "WARNING:pydicom:A value of 'None' for (0028,0008) 'Number of Frames' is invalid, assuming 1 frame\n"
     ]
    },
    {
     "name": "stdout",
     "output_type": "stream",
     "text": [
      "NIRT_DS01_00189.dcm: chest (99.37%)\n",
      "\u001b[1m1/1\u001b[0m \u001b[32m━━━━━━━━━━━━━━━━━━━━\u001b[0m\u001b[37m\u001b[0m \u001b[1m0s\u001b[0m 178ms/step\n"
     ]
    },
    {
     "name": "stderr",
     "output_type": "stream",
     "text": [
      "WARNING:pydicom:A value of 'None' for (0028,0008) 'Number of Frames' is invalid, assuming 1 frame\n",
      "WARNING:pydicom:A value of 'None' for (0028,0008) 'Number of Frames' is invalid, assuming 1 frame\n"
     ]
    },
    {
     "name": "stdout",
     "output_type": "stream",
     "text": [
      "NIRT_DS01_00190.dcm: chest (99.26%)\n",
      "\u001b[1m1/1\u001b[0m \u001b[32m━━━━━━━━━━━━━━━━━━━━\u001b[0m\u001b[37m\u001b[0m \u001b[1m0s\u001b[0m 178ms/step\n"
     ]
    },
    {
     "name": "stderr",
     "output_type": "stream",
     "text": [
      "WARNING:pydicom:A value of 'None' for (0028,0008) 'Number of Frames' is invalid, assuming 1 frame\n",
      "WARNING:pydicom:A value of 'None' for (0028,0008) 'Number of Frames' is invalid, assuming 1 frame\n"
     ]
    },
    {
     "name": "stdout",
     "output_type": "stream",
     "text": [
      "NIRT_DS01_00191.dcm: chest (99.57%)\n",
      "\u001b[1m1/1\u001b[0m \u001b[32m━━━━━━━━━━━━━━━━━━━━\u001b[0m\u001b[37m\u001b[0m \u001b[1m0s\u001b[0m 182ms/step\n"
     ]
    },
    {
     "name": "stderr",
     "output_type": "stream",
     "text": [
      "WARNING:pydicom:A value of 'None' for (0028,0008) 'Number of Frames' is invalid, assuming 1 frame\n",
      "WARNING:pydicom:A value of 'None' for (0028,0008) 'Number of Frames' is invalid, assuming 1 frame\n"
     ]
    },
    {
     "name": "stdout",
     "output_type": "stream",
     "text": [
      "NIRT_DS01_00192.dcm: chest (97.94%)\n",
      "\u001b[1m1/1\u001b[0m \u001b[32m━━━━━━━━━━━━━━━━━━━━\u001b[0m\u001b[37m\u001b[0m \u001b[1m0s\u001b[0m 188ms/step\n"
     ]
    },
    {
     "name": "stderr",
     "output_type": "stream",
     "text": [
      "WARNING:pydicom:A value of 'None' for (0028,0008) 'Number of Frames' is invalid, assuming 1 frame\n",
      "WARNING:pydicom:A value of 'None' for (0028,0008) 'Number of Frames' is invalid, assuming 1 frame\n"
     ]
    },
    {
     "name": "stdout",
     "output_type": "stream",
     "text": [
      "NIRT_DS01_00193.dcm: chest (99.35%)\n",
      "\u001b[1m1/1\u001b[0m \u001b[32m━━━━━━━━━━━━━━━━━━━━\u001b[0m\u001b[37m\u001b[0m \u001b[1m0s\u001b[0m 183ms/step\n"
     ]
    },
    {
     "name": "stderr",
     "output_type": "stream",
     "text": [
      "WARNING:pydicom:A value of 'None' for (0028,0008) 'Number of Frames' is invalid, assuming 1 frame\n",
      "WARNING:pydicom:A value of 'None' for (0028,0008) 'Number of Frames' is invalid, assuming 1 frame\n"
     ]
    },
    {
     "name": "stdout",
     "output_type": "stream",
     "text": [
      "NIRT_DS01_00194.dcm: chest (97.19%)\n",
      "\u001b[1m1/1\u001b[0m \u001b[32m━━━━━━━━━━━━━━━━━━━━\u001b[0m\u001b[37m\u001b[0m \u001b[1m0s\u001b[0m 183ms/step\n"
     ]
    },
    {
     "name": "stderr",
     "output_type": "stream",
     "text": [
      "WARNING:pydicom:A value of 'None' for (0028,0008) 'Number of Frames' is invalid, assuming 1 frame\n",
      "WARNING:pydicom:A value of 'None' for (0028,0008) 'Number of Frames' is invalid, assuming 1 frame\n"
     ]
    },
    {
     "name": "stdout",
     "output_type": "stream",
     "text": [
      "NIRT_DS01_00195.dcm: chest (90.80%)\n",
      "\u001b[1m1/1\u001b[0m \u001b[32m━━━━━━━━━━━━━━━━━━━━\u001b[0m\u001b[37m\u001b[0m \u001b[1m0s\u001b[0m 178ms/step\n"
     ]
    },
    {
     "name": "stderr",
     "output_type": "stream",
     "text": [
      "WARNING:pydicom:A value of 'None' for (0028,0008) 'Number of Frames' is invalid, assuming 1 frame\n",
      "WARNING:pydicom:A value of 'None' for (0028,0008) 'Number of Frames' is invalid, assuming 1 frame\n"
     ]
    },
    {
     "name": "stdout",
     "output_type": "stream",
     "text": [
      "NIRT_DS01_00196.dcm: chest (98.53%)\n",
      "\u001b[1m1/1\u001b[0m \u001b[32m━━━━━━━━━━━━━━━━━━━━\u001b[0m\u001b[37m\u001b[0m \u001b[1m0s\u001b[0m 181ms/step\n"
     ]
    },
    {
     "name": "stderr",
     "output_type": "stream",
     "text": [
      "WARNING:pydicom:A value of 'None' for (0028,0008) 'Number of Frames' is invalid, assuming 1 frame\n",
      "WARNING:pydicom:A value of 'None' for (0028,0008) 'Number of Frames' is invalid, assuming 1 frame\n"
     ]
    },
    {
     "name": "stdout",
     "output_type": "stream",
     "text": [
      "NIRT_DS01_00197.dcm: chest (99.43%)\n",
      "\u001b[1m1/1\u001b[0m \u001b[32m━━━━━━━━━━━━━━━━━━━━\u001b[0m\u001b[37m\u001b[0m \u001b[1m0s\u001b[0m 178ms/step\n"
     ]
    },
    {
     "name": "stderr",
     "output_type": "stream",
     "text": [
      "WARNING:pydicom:A value of 'None' for (0028,0008) 'Number of Frames' is invalid, assuming 1 frame\n",
      "WARNING:pydicom:A value of 'None' for (0028,0008) 'Number of Frames' is invalid, assuming 1 frame\n"
     ]
    },
    {
     "name": "stdout",
     "output_type": "stream",
     "text": [
      "NIRT_DS01_00198.dcm: chest (99.43%)\n",
      "\u001b[1m1/1\u001b[0m \u001b[32m━━━━━━━━━━━━━━━━━━━━\u001b[0m\u001b[37m\u001b[0m \u001b[1m0s\u001b[0m 175ms/step\n"
     ]
    },
    {
     "name": "stderr",
     "output_type": "stream",
     "text": [
      "WARNING:pydicom:A value of 'None' for (0028,0008) 'Number of Frames' is invalid, assuming 1 frame\n",
      "WARNING:pydicom:A value of 'None' for (0028,0008) 'Number of Frames' is invalid, assuming 1 frame\n"
     ]
    },
    {
     "name": "stdout",
     "output_type": "stream",
     "text": [
      "NIRT_DS01_00199.dcm: chest (98.87%)\n",
      "\u001b[1m1/1\u001b[0m \u001b[32m━━━━━━━━━━━━━━━━━━━━\u001b[0m\u001b[37m\u001b[0m \u001b[1m0s\u001b[0m 176ms/step\n",
      "NIRT_DS01_00200.dcm: chest (99.47%)\n",
      "\n",
      "Predictions saved to: F:/set2_pred7.csv\n"
     ]
    }
   ],
   "source": [
    "# Run the folder-based prediction\n",
    "predict_folder_images()\n"
   ]
  },
  {
   "cell_type": "code",
   "execution_count": null,
   "id": "3b3879a0-20f4-486c-ab09-aefdbeb9dd15",
   "metadata": {},
   "outputs": [],
   "source": []
  }
 ],
 "metadata": {
  "kernelspec": {
   "display_name": "Python 3 (ipykernel)",
   "language": "python",
   "name": "python3"
  },
  "language_info": {
   "codemirror_mode": {
    "name": "ipython",
    "version": 3
   },
   "file_extension": ".py",
   "mimetype": "text/x-python",
   "name": "python",
   "nbconvert_exporter": "python",
   "pygments_lexer": "ipython3",
   "version": "3.12.7"
  }
 },
 "nbformat": 4,
 "nbformat_minor": 5
}
